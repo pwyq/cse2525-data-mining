{
 "cells": [
  {
   "cell_type": "markdown",
   "metadata": {},
   "source": [
    "# Lab 7: Mining Social-Network Graphs\n",
    "Data Mining 2019/2020 <br> \n",
    "Ruben Wiersma and Gosia Migut\n",
    "\n",
    "**WHAT** This *optional* lab consists of several programming and insight exercises/questions. \n",
    "These exercises are meant to let you practice with the theory covered in: [Chapter 10][2] from \"Mining of Massive Datasets\" by J. Leskovec, A. Rajaraman, J. D. Ullman. <br>\n",
    "\n",
    "**WHY** Practicing, both through programming and answering the insight questions, aims at deepening your knowledge and preparing you for the exam. <br>\n",
    "\n",
    "**HOW** Follow the exercises in this notebook either on your own or with a friend. Use Mattermost\n",
    "to disscus questions with your peers. For additional questions and feedback please consult the TA's at the assigned lab session. The answers to these exercises will not be provided.\n",
    "\n",
    "[1]: https://mattermost.ewi.tudelft.nl/signup_user_complete/?id=ccffzw3cdjrkxkksq79qbxww7a\n",
    "[2]: http://infolab.stanford.edu/~ullman/mmds/ch10.pdf"
   ]
  },
  {
   "cell_type": "markdown",
   "metadata": {},
   "source": [
    "In this exercise, we will practice with Spectral Clustering to analyse Social Networks. To this end, we will create an adjacency matrix, set up a Laplacian matrix, compute the eigenvalue decomposition and perform clustering. Finally, we will use the code that you develop to cluster a large Social Network graph into more than two clusters.\n",
    "\n",
    "**NOTICE: the aim of this lab is to give you deeper understanding of spectral clustering. To that end, it will require you to do solve some mathematical equations and dust off your linear algebra skills. So take out your pen and paper and be ready to write out the math related parts.**"
   ]
  },
  {
   "cell_type": "markdown",
   "metadata": {},
   "source": [
    "# Spectral Graph Clustering\n",
    "\n",
    "You are working for a popular social networking site, FriendBase. Your managers have thought of a wonderful new feature: InstaGroups<sup>tm</sup>. InstaGroups<sup>tm</sup> will automatically suggest a clustering of your group of friends, so you can easily send messages to- and post memes meant for only a select group.\n",
    "\n",
    "In order to start working on this problem, you are given a small dataset with nine people (given as a list) and their friendships. The friendships are provided in a list of tuples, where each tuple in the list represents a friendships, e.g.: `('Albert', 'Bob')` represents a friendship between Albert and Bob. Each friendship is undirected, so a friendship defined for `('Albert', 'Bob')` will also hold for `('Bob', 'Albert')`."
   ]
  },
  {
   "cell_type": "code",
   "execution_count": null,
   "metadata": {},
   "outputs": [],
   "source": [
    "class graph(object):\n",
    "    \"\"\"\n",
    "    Very simple graph class that holds a list of nodes and a list of edges connecting the nodes.\n",
    "    Feel free to extend the functionality of this class to better organise your code.\n",
    "    \"\"\"\n",
    "    \n",
    "    def __init__(self, nodes=[], edges=[]):\n",
    "        self.nodes = nodes\n",
    "        self.edges = edges"
   ]
  },
  {
   "cell_type": "code",
   "execution_count": null,
   "metadata": {},
   "outputs": [],
   "source": [
    "# List of people, the nodes in the graph.\n",
    "people = ['Alice',\n",
    "           'Bob',\n",
    "           'Claudia',\n",
    "           'Dennis',\n",
    "           'Ellie',\n",
    "           'Frida',\n",
    "           'George',\n",
    "           'Harry',\n",
    "           'Irene']\n",
    "\n",
    "# Friendships between people, the edges in the graph.\n",
    "friendships = [('Alice', 'Bob'),\n",
    "               ('Alice', 'Claudia'),\n",
    "               ('Alice', 'Dennis'),\n",
    "               ('Bob', 'Claudia'),\n",
    "               ('Bob', 'Dennis'),\n",
    "               ('Bob', 'Frida'),\n",
    "               ('Claudia', 'Dennis'),\n",
    "               ('Claudia', 'Irene'),\n",
    "               ('Dennis', 'Ellie'),\n",
    "               ('Ellie', 'Frida'),\n",
    "               ('Ellie', 'George'),\n",
    "               ('Frida', 'George'),\n",
    "               ('Frida', 'Harry'),\n",
    "               ('George', 'Harry')]\n",
    "\n",
    "friend_graph = graph(people, friendships)"
   ]
  },
  {
   "cell_type": "markdown",
   "metadata": {},
   "source": [
    "### Question 1\n",
    "\n",
    "Draw a graph of this network for yourself to visualise the network.\n",
    "- What are the nodes? What are the edges in your graph?\n",
    "- How many clusters would you create? Which cluster would each person be assigned to?"
   ]
  },
  {
   "cell_type": "markdown",
   "metadata": {},
   "source": [
    "### Exercise 1 - The Adjacency Matrix\n",
    "\n",
    "We will now apply Spectral Clustering to this problem. To do so, we will need an adjacency matrix of this social network.\n",
    "\n",
    "Remember that the adjacency matrix $\\mathbf{A}$ is an $n \\times n$ matrix, where $n$ is the number of nodes in your graph. The entry at row $i$ and column $j$ is 1 if there is an edge between node $i$ and node $j$. We denote this as $a_{ij} = 1$, otherwise, $a_{ij} = 0$.\n",
    "\n",
    "Construct the adjacency matrix for the provided dataset.\n",
    "\n",
    "Hint: you can use `list.index(element)` to find the index of a given element."
   ]
  },
  {
   "cell_type": "code",
   "execution_count": null,
   "metadata": {},
   "outputs": [],
   "source": [
    "import numpy as np\n",
    "\n",
    "def create_adjacency_matrix(graph):\n",
    "    \"\"\"\n",
    "    Creates and returns the adjacency matrix for a given graph.\n",
    "    \"\"\"\n",
    "    \n",
    "    adjacency_matrix = np.zeros((len(graph.nodes), len(graph.nodes)))\n",
    "    \n",
    "    # Start coding here!\n",
    "    \n",
    "    return adjacency_matrix\n",
    "\n",
    "adjacency_matrix = create_adjacency_matrix(friend_graph)\n",
    "\n",
    "adjacency_matrix"
   ]
  },
  {
   "cell_type": "markdown",
   "metadata": {},
   "source": [
    "### Exercise 2 - Graph Laplacian\n",
    "\n",
    "The next step is to compute the Laplacian matrix given this adjacency matrix. The Laplacian of a graph is defined as\n",
    "\n",
    "$L = D - A$\n",
    "\n",
    "$D$ is the degree matrix. The degree matrix describes the number of edges for each node on the diagonal of an $n \\times n$ matrix:<br>\n",
    "$d_{ii} = \\sum_{j \\in \\delta(i)} 1$.\n",
    "\n",
    "Complete the provided functions to compute the Laplacian of the graph for the FriendBook dataset."
   ]
  },
  {
   "cell_type": "code",
   "execution_count": null,
   "metadata": {},
   "outputs": [],
   "source": [
    "def compute_degree_matrix(adjacency_matrix):\n",
    "    \"\"\"\n",
    "    Computes the degree matrix from an adjacency matrix.\n",
    "    \"\"\"\n",
    "    \n",
    "    degree_matrix = np.zeros_like(adjacency_matrix)\n",
    "    \n",
    "    # Start coding here!\n",
    "    \n",
    "    return degree_matrix\n",
    "\n",
    "def compute_laplacian(adjacency_matrix):\n",
    "    \"\"\"\n",
    "    Computes the Laplacian matrix from an adjacency matix.\n",
    "    \"\"\"\n",
    "    \n",
    "    laplacian = np.zeros_like(adjacency_matrix)\n",
    "    \n",
    "    # Start coding here!\n",
    "    \n",
    "    return laplacian\n",
    "\n",
    "laplacian = compute_laplacian(adjacency_matrix)\n",
    "\n",
    "laplacian"
   ]
  },
  {
   "cell_type": "markdown",
   "metadata": {},
   "source": [
    "### Question 2\n",
    "\n",
    "In order to grow your intuition of the Laplacian matrix, we will do a small exercise. Let's say you know the height of every person in the dataset. You can store these heights in a vector $\\mathbf{v}$ of length $n$. The $i$<sup>th</sup> element of the vector, $v_i$, stores the height for person $i$.\n",
    "\n",
    "- What happens if you multiply the Laplacian matrix with the heights of each person, i.e. $\\mathbf{L}\\mathbf{v}$? Try doing this with a very small graph consiting of three nodes: a, b, c, where (a, b) and (a, c) are connected and the heights of a, b, and c are 2, 3, and 4, respectively.  \n",
    "  \n",
    "- What if all people have the same height, e.g. $\\mathbf{v} = \\mathbf{1} = [1, 1, 1, ...]^T$?  \n",
    "  \n",
    "- What are you computing this way? Hint: what's the difference in height between each pair? How would you compute the average of these differences?  "
   ]
  },
  {
   "cell_type": "markdown",
   "metadata": {},
   "source": [
    "### Exercise 3 - Eigenvalue decomposition\n",
    "\n",
    "The next step in the Spectral Clustering algorithm is to compute the Eigenvalue decomposition of the Laplacian matrix. If you would like to better understand Eigenvalues and Eigenvectors, watch [this video on eigenvectors][1].\n",
    "\n",
    "Compute the eigenvalue decomposition of the Laplacian matrix and print the eigenvalues and eigenvectors corresponding to the *first three* eigenvalues in increasing order.\n",
    "\n",
    "Hint 1: Use numpy's [linear algebra library][2].<br>\n",
    "Hint 2: Use `np.argsort(list)` to get the sorted indices of a list.\n",
    "\n",
    "[1]: https://www.youtube.com/watch?v=PFDu9oVAE-g&list=PLZHQObOWTQDPD3MizzM2xVFitgF8hE_ab&index=13\n",
    "[2]: https://docs.scipy.org/doc/numpy/reference/routines.linalg.html"
   ]
  },
  {
   "cell_type": "code",
   "execution_count": null,
   "metadata": {},
   "outputs": [],
   "source": [
    "from numpy import linalg as la\n",
    "\n",
    "\"\"\"\n",
    "Numpy's Linear Algebra returns a vector of eigenvalues and a matrix\n",
    "where the columns are the corresponding eigenvectors.\n",
    "The eigenvalues are not necessarily ordered.\n",
    "\"\"\"\n",
    "v, w = la.eig(laplacian)\n",
    "\n",
    "# Start coding here!"
   ]
  },
  {
   "cell_type": "markdown",
   "metadata": {},
   "source": [
    "### Question 3\n",
    "What is the first eigenvalue and its corresponding eigenvector?  Did you expect this result?  "
   ]
  },
  {
   "cell_type": "markdown",
   "metadata": {},
   "source": [
    "### Exercise 4\n",
    "You will now perform the final step in the Spectral Clustering algorithm: the actual clustering. You will do this using the second eigenvector of the Laplacian matrix.\n",
    "\n",
    "Each person is assigned to a cluster based on the sign of their entry in the eigenvector. For example: if we have eigenvector $[3, 7, -2, 4, -3, 5, 2, -8, 1]^T$, we know that Alice, Bob, Dennis, Frida, George, and Irene should be in one cluster and that Claudia, Ellie, and Harry are in the other.\n",
    "\n",
    "Complete the following functions to create and print the cluster assignment in a readable way."
   ]
  },
  {
   "cell_type": "code",
   "execution_count": null,
   "metadata": {},
   "outputs": [],
   "source": [
    "def second_eigenvector(laplacian):\n",
    "    v, w = la.eig(laplacian)\n",
    "    \n",
    "    second_v = np.ones((laplacian.shape[0], 1))\n",
    "    \n",
    "    # Start coding here!\n",
    "    \n",
    "    return second_v\n",
    "\n",
    "def spectral_cluster(g):\n",
    "    \"\"\"\n",
    "    Clusters a graph given by nodes and edges using spectral clustering.\n",
    "    Returns two graphs given by nodes1, edges1 and nodes2, edges2, respectively.\n",
    "    \"\"\"\n",
    "    nodes1, edges1 = [], []\n",
    "    nodes2, edges2 = [], []\n",
    "    \n",
    "    adjacency_matrix = create_adjacency_matrix(g)\n",
    "    laplacian = compute_laplacian(adjacency_matrix)\n",
    "    \n",
    "    second_v = second_eigenvector(laplacian)\n",
    "  \n",
    "    # Start coding here!\n",
    "    \n",
    "    g1 = graph(nodes1, edges1)\n",
    "    g2 = graph(nodes2, edges2)\n",
    "    \n",
    "    return g1, g2\n",
    "        \n",
    "graph1, graph2 = spectral_cluster(friend_graph)\n",
    "print(\"Cluster 1:\", graph1.nodes)\n",
    "print(\"Cluster 2:\", graph2.nodes)"
   ]
  },
  {
   "cell_type": "markdown",
   "metadata": {},
   "source": [
    "### Question 4\n",
    "Compare the results to your answer to question 1.1. Did you get the same clustering?  "
   ]
  },
  {
   "cell_type": "markdown",
   "metadata": {},
   "source": [
    "### Exercise 5.a\n",
    "Now we will extend this method to create partitions greater than $2$. As described in the lecture, there are two possible ways to proceed:\n",
    "1. Recursively partition each cluster using the spectral clustering algorithm until you have reached $k$ partitions.\n",
    "2. Use $d$ eigenvectors to construct a $d$-dimensional space and apply a classical clustering algorithm.\n",
    "\n",
    "The first technique is quite straightforward, so let's implement it right away and see how it performs. For now, we will limit our implementation to $k$ being powers of $2$."
   ]
  },
  {
   "cell_type": "code",
   "execution_count": null,
   "metadata": {
    "scrolled": true
   },
   "outputs": [],
   "source": [
    "from math import log2\n",
    "\n",
    "def recursive_cluster_k(g, k):\n",
    "    assert k <= len(g.nodes)\n",
    "    assert log2(k) % 1 == 0\n",
    "    \n",
    "    depth = log2(k)\n",
    "    return recursive_cluster(g, depth)\n",
    "\n",
    "def recursive_cluster(g, depth):\n",
    "    \"\"\"\n",
    "    Recursively clusters graph g until depth is 0.\n",
    "    If you want, you can also implement this method iteratively (with a for loop).\n",
    "    \"\"\"\n",
    "    # base case\n",
    "    if depth == 0:\n",
    "        return [g]\n",
    "     \n",
    "    clusters = []\n",
    "    \n",
    "    # Start coding here!\n",
    "\n",
    "    return clusters\n",
    "        \n",
    "clusters = recursive_cluster_k(friend_graph, 4)\n",
    "for cluster in clusters:\n",
    "    print(cluster.nodes)\n",
    "        "
   ]
  },
  {
   "cell_type": "markdown",
   "metadata": {},
   "source": [
    "### Exercise 5.b\n",
    "\n",
    "Now for the second technique: Use $d$ eigenvectors to construct a $d$-dimensional space and apply a classical clustering algorithm. Let's break up this sentence to see what it means.\n",
    "\n",
    "1. _Use $d$ eigenvectors to construct a $d$-dimensional space._\n",
    "\n",
    "The $d$ eigenvectors you select are the bases of a $d$-dimensional space (check out the video linked in exercise 3 to see why). In order to get the coördinates of a point in this new space, all we need to do is compute the dot product between the vector representation of that point in the original space and the eigenvector corresponding to each dimension. The vector representation $\\mathbf{v}$ of a node $i$ in the original space is an $n \\times 1$ vector with all zeros and $v_i = 1$.\n",
    "\n",
    "If compute the dot product with each eigenvector, you get $d$ 'coördinates' for that node in the new $d$-dimensional space, which is called the spectral transform.\n",
    "\n",
    "We can use a quick shortcut to get the coördinates for each node in the graph: we can simply concatenate the $d$ eigenvectors into an $n \\times d$ matrix (try writing it out it out). The dataset of new features will look like this: [$w_1$, $w_2$, ..., $w_d$] where $w_j$ is the $j$-th eigenvector.\n",
    "\n",
    "2. _Apply a classical clustering algorithm._\n",
    "\n",
    "Now that you have $d$ coördinates for each node, we can feed these new coördinates (or features) into a standard clustering algorithm, like hierarchical clustering or k-means. We will not implement this step. For now, it will do to plot the new coordinates. Of course, you are free to use an out-of-the-box implementation or your own clustering implementation from the Machine Learning course.\n",
    "\n",
    "*Let's get started!* We will use only two eigenvectors, so we can plot the new coordinates. Remember that we don't use the very first eigenvector, as it consists of only 1s."
   ]
  },
  {
   "cell_type": "code",
   "execution_count": null,
   "metadata": {},
   "outputs": [],
   "source": [
    "import matplotlib.pyplot as plt\n",
    "from matplotlib import colors as mcolors\n",
    "\n",
    "def spectral_coordinates(laplacian, d):\n",
    "    v, w = la.eig(laplacian)\n",
    "    \n",
    "    coordinates = np.ones((laplacian.shape[0], d))\n",
    "    \n",
    "    # Start coding here!\n",
    "\n",
    "    return coordinates\n",
    "\n",
    "def spectral_cluster_k(g, k):    \n",
    "    adjacency_matrix = create_adjacency_matrix(g)\n",
    "    laplacian = compute_laplacian(adjacency_matrix)\n",
    "    \n",
    "    coordinates = spectral_coordinates(laplacian, 2)\n",
    "    \n",
    "    for i in range(len(coordinates)):\n",
    "        plt.scatter(coordinates[i, 0], coordinates[i, 1])\n",
    "    plt.legend(people)\n",
    "    plt.show()\n",
    "\n",
    "spectral_cluster_k(friend_graph, 4)"
   ]
  },
  {
   "cell_type": "markdown",
   "metadata": {},
   "source": [
    "### Question 5\n",
    "- What do the axes mean in this plot? \n",
    "- Would you get the same clustering results using the two methods? What is the difference?"
   ]
  }
 ],
 "metadata": {
  "kernelspec": {
   "display_name": "Python 3",
   "language": "python",
   "name": "python3"
  },
  "language_info": {
   "codemirror_mode": {
    "name": "ipython",
    "version": 3
   },
   "file_extension": ".py",
   "mimetype": "text/x-python",
   "name": "python",
   "nbconvert_exporter": "python",
   "pygments_lexer": "ipython3",
   "version": "3.7.0"
  }
 },
 "nbformat": 4,
 "nbformat_minor": 2
}
