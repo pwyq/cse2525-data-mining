{
 "cells": [
  {
   "cell_type": "markdown",
   "metadata": {},
   "source": [
    "# Lab 0: Introduction to Numpy\n",
    "Data Mining 2018/2019 <br>\n",
    "Gosia Migut"
   ]
  },
  {
   "cell_type": "markdown",
   "metadata": {},
   "source": [
    "**WHAT** This nonmandatory lab consists of several programming and insight exercises/questions. \n",
    "\n",
    "**WHY** The exercises are ment to prepare you for using Python and Numpy in this course. \n",
    "\n",
    "**HOW** Follow the exercises in this notebook either on your own or with a friend. Use [Mattermost][1] to disscus questions with your peers. For additional questions and feedback please consult the TA's during the lab session. \n",
    "    * Step 1: Intro to Numpy\n",
    "    * Step 2: Practice with Numpy\n",
    "\n",
    "\n",
    "[1]: https://mattermost.ewi.tudelft.nl/signup_user_complete/?id=ccffzw3cdjrkxkksq79qbxww7a"
   ]
  },
  {
   "cell_type": "markdown",
   "metadata": {},
   "source": [
    "## Step 1: Array programming with NumPy"
   ]
  },
  {
   "cell_type": "markdown",
   "metadata": {},
   "source": [
    "In this step we will show you the basics of array manipulation in [NumPy]. \n",
    "\n",
    "In general advise is that you should really read the manuals and tutorials on the web to make sure you learn how to use modern array manipulation languages (libraries) to unleash their power.\n",
    "\n",
    "There are many python/numpy tutorials available like [this one]. \n",
    "\n",
    "[this one]: http://cs231n.github.io/python-numpy-tutorial/.\n",
    "\n",
    "[NumPy]: http://www.numpy.org/"
   ]
  },
  {
   "cell_type": "markdown",
   "metadata": {},
   "source": [
    "In data mining we are dealing with massive amounts of data. Data most often organised in tables. When all data elements in a table are of the same datatype (like an integer or a floating point number) the table can be represented with a homogeneous array.\n",
    "\n",
    "Languages that are optimally suited for programming with data are therefore equipped with array data types that are integral part of the language. Although arrays look a lot like Python lists they are not as shown in the following code."
   ]
  },
  {
   "cell_type": "code",
   "execution_count": null,
   "metadata": {},
   "outputs": [],
   "source": [
    "import numpy as np"
   ]
  },
  {
   "cell_type": "markdown",
   "metadata": {},
   "source": [
    "### Declaring a normal python list."
   ]
  },
  {
   "cell_type": "code",
   "execution_count": null,
   "metadata": {},
   "outputs": [],
   "source": [
    "list1 = [1, 2, 3, 4]\n",
    "type(list1)"
   ]
  },
  {
   "cell_type": "markdown",
   "metadata": {},
   "source": [
    "### Making a numpy array using python lists."
   ]
  },
  {
   "cell_type": "code",
   "execution_count": null,
   "metadata": {
    "scrolled": true
   },
   "outputs": [],
   "source": [
    "array1 = np.array(list1)\n",
    "array1"
   ]
  },
  {
   "cell_type": "code",
   "execution_count": null,
   "metadata": {
    "scrolled": true
   },
   "outputs": [],
   "source": [
    "type(array1)"
   ]
  },
  {
   "cell_type": "code",
   "execution_count": null,
   "metadata": {},
   "outputs": [],
   "source": [
    "print(array1)"
   ]
  },
  {
   "cell_type": "markdown",
   "metadata": {},
   "source": [
    "### We can also go multi dimensional (in this case 2D)"
   ]
  },
  {
   "cell_type": "code",
   "execution_count": null,
   "metadata": {},
   "outputs": [],
   "source": [
    "# Declare an extra list.\n",
    "list2 = [11, 22, 33, 44]\n",
    "# Combine the lists into a 2D list.\n",
    "lists = [list1, list2]\n",
    "lists"
   ]
  },
  {
   "cell_type": "code",
   "execution_count": null,
   "metadata": {},
   "outputs": [],
   "source": [
    "array2 = np.array(lists)\n",
    "array2"
   ]
  },
  {
   "cell_type": "markdown",
   "metadata": {},
   "source": [
    "### just to make sure we can also print the shapes.\n",
    "We would obviously expect a (4,1) and a (4,2)... or don't we?"
   ]
  },
  {
   "cell_type": "code",
   "execution_count": null,
   "metadata": {},
   "outputs": [],
   "source": [
    "print(\"Arr1: \", array1.shape)\n",
    "print(\"Arr2: \", array2.shape)"
   ]
  },
  {
   "cell_type": "markdown",
   "metadata": {},
   "source": [
    "The best way to think about NumPy arrays is that they consist of two parts, a data buffer which is just a block of raw elements, and a view which describes how to interpret the data buffer.\n",
    "\n",
    "Here the shape (4,) means the array is indexed by a single index which runs from 0 to 4. \n",
    "In most situations the lack of second dimension is not a problem. If it does turn into a problem (e.g. when you are trying to take a transpose of this vector) you can just call the below function to generate a new view:"
   ]
  },
  {
   "cell_type": "code",
   "execution_count": null,
   "metadata": {},
   "outputs": [],
   "source": [
    "# Do note the double brackets, as the size is added as a tuple: (rows, columns)\n",
    "array1 = array1.reshape((4,1))\n",
    "array1.shape"
   ]
  },
  {
   "cell_type": "markdown",
   "metadata": {},
   "source": [
    "Now we happen to know what we stored in our array, but sometimes you do not know such. To ask the data type of your array, you can call:\n"
   ]
  },
  {
   "cell_type": "code",
   "execution_count": null,
   "metadata": {},
   "outputs": [],
   "source": [
    "array2.dtype"
   ]
  },
  {
   "cell_type": "markdown",
   "metadata": {},
   "source": [
    "### Making specific arrays\n",
    "There are also other ways to make specific arrays, such as:"
   ]
  },
  {
   "cell_type": "code",
   "execution_count": null,
   "metadata": {},
   "outputs": [],
   "source": [
    "# The empty array\n",
    "print(\"Ex1: \", np.empty(5))\n",
    "\n",
    "# Array of 5 floating point zeros\n",
    "print(\"Ex2: \", np.zeros(5))\n",
    "\n",
    "# Array of 5 floating point ones\n",
    "print(\"Ex3: \", np.ones(5))\n",
    "\n",
    "# Array of 5 integer incrementing numbers\n",
    "print(\"Ex4: \", np.arange(5))\n",
    "\n",
    "# Start at 5, stop at 20, do it in steps of 2\n",
    "print(\"Ex5: \", np.arange(5, 20, 2))\n",
    "\n",
    "# Making the identity matrix (ones on the diagonal)\n",
    "print(\"Ex6: \")\n",
    "print(np.eye(5))"
   ]
  },
  {
   "cell_type": "markdown",
   "metadata": {},
   "source": [
    "### Mathematical operations\n"
   ]
  },
  {
   "cell_type": "markdown",
   "metadata": {},
   "source": [
    "You are also able to apply basic mathematical operations to arrays"
   ]
  },
  {
   "cell_type": "code",
   "execution_count": null,
   "metadata": {},
   "outputs": [],
   "source": [
    "array3 = np.array([[1, 2, 3, 4], [8, 9, 10, 11]])\n",
    "array3"
   ]
  },
  {
   "cell_type": "code",
   "execution_count": null,
   "metadata": {},
   "outputs": [],
   "source": [
    "# Value-wise multiplication\n",
    "array3 * array3"
   ]
  },
  {
   "cell_type": "code",
   "execution_count": null,
   "metadata": {},
   "outputs": [],
   "source": [
    "# Subtraction\n",
    "array3 - 5"
   ]
  },
  {
   "cell_type": "code",
   "execution_count": null,
   "metadata": {},
   "outputs": [],
   "source": [
    "1 / array3"
   ]
  },
  {
   "cell_type": "code",
   "execution_count": null,
   "metadata": {},
   "outputs": [],
   "source": [
    "array3 ** 3"
   ]
  },
  {
   "cell_type": "markdown",
   "metadata": {},
   "source": [
    "#### You can also apply functions to all elements in an array at once"
   ]
  },
  {
   "cell_type": "markdown",
   "metadata": {},
   "source": [
    "The nice thing about Numpy arrays is that it allows you to manipulate the data in arrays without writing explicit loops. For instance look at the addition of all elements in an array:"
   ]
  },
  {
   "cell_type": "code",
   "execution_count": null,
   "metadata": {},
   "outputs": [],
   "source": [
    "a = np.random.rand(65536)"
   ]
  },
  {
   "cell_type": "code",
   "execution_count": null,
   "metadata": {},
   "outputs": [],
   "source": [
    "#calculate the sum of the elements in array\n",
    "def loopsum(a):\n",
    "    sum = 0\n",
    "    for i in range(len(a)):\n",
    "        sum += a[i]\n",
    "    return sum"
   ]
  },
  {
   "cell_type": "code",
   "execution_count": null,
   "metadata": {},
   "outputs": [],
   "source": [
    "%timeit loopsum(a)\n",
    "%timeit np.sum(a)"
   ]
  },
  {
   "cell_type": "markdown",
   "metadata": {},
   "source": [
    "So the explicit loop sum function in python takes 10 ms versus 30 µs for the numpy version. That is about 350 times slower for the explicit loop version.\n",
    "So be aware in this course to use build-in Numpy tools to manipulate and calculate with arrays.\n",
    "Some built-in functions of numpy can be found [here].\n",
    "\n",
    "\n",
    "\n",
    "[here]: https://docs.scipy.org/doc/numpy/reference/ufuncs.html#math-operations\n",
    "\n"
   ]
  },
  {
   "cell_type": "markdown",
   "metadata": {},
   "source": [
    "### Indexing Arrays"
   ]
  },
  {
   "cell_type": "code",
   "execution_count": null,
   "metadata": {},
   "outputs": [],
   "source": [
    "array4 = np.arange(0, 10)\n",
    "array4"
   ]
  },
  {
   "cell_type": "markdown",
   "metadata": {},
   "source": [
    "There is a minor difference with normal python lists, when it comes to indexing, namely that the array allows two different ways to call the value at a position."
   ]
  },
  {
   "cell_type": "code",
   "execution_count": null,
   "metadata": {},
   "outputs": [],
   "source": [
    "list3 = [[1, 2, 3], [4, 5, 6]]\n",
    "array5 = np.array(list3)\n",
    "\n",
    "# Watch the brackets closely.\n",
    "print(\"List: \", list3[1][2])\n",
    "# Array can use two different approaches\n",
    "print(\"Array \", array5[1, 2])\n",
    "print(\"Array \", array5[1][2])"
   ]
  },
  {
   "cell_type": "markdown",
   "metadata": {},
   "source": [
    "### Slicing arrays\n",
    "Sometimes you do not want the full array, but just parts of it, we can use array slicing for this"
   ]
  },
  {
   "cell_type": "code",
   "execution_count": null,
   "metadata": {},
   "outputs": [],
   "source": [
    "# Show original array\n",
    "print(array4)\n",
    "# We want to 2nd to 5th element:\n",
    "print(array5[0:1,0:1])\n",
    "# We can also use it to set the value of multiple entries:\n",
    "array4[2:5] = 13\n",
    "print(array4)"
   ]
  },
  {
   "cell_type": "markdown",
   "metadata": {},
   "source": [
    "One important thing to not is that a slice, is just another view of the same data. If you change something in the slice, it also changes in the original. This is nice for you memory efficiency of your program, but sometimes it can hurt you when overlooked."
   ]
  },
  {
   "cell_type": "code",
   "execution_count": null,
   "metadata": {},
   "outputs": [],
   "source": [
    "array4 = np.arange(0, 10)\n",
    "# Take a slice, consiting of the 2nd to 6th element.\n",
    "slice_array4 = array4[2:6]\n",
    "# We iterate over all values, setting them to 22\n",
    "slice_array4[:] = 22\n",
    "print(slice_array4)\n",
    "print(array4)"
   ]
  },
  {
   "cell_type": "markdown",
   "metadata": {},
   "source": [
    "To prevent such, we can also make a new copy, to not just generate a view, but to actually reserve new memory for the object we are making"
   ]
  },
  {
   "cell_type": "code",
   "execution_count": null,
   "metadata": {},
   "outputs": [],
   "source": [
    "array4 = np.arange(0, 10)\n",
    "array5 = array4.copy()\n",
    "print(array4)\n",
    "print(array5)\n",
    "array5[:] = 22\n",
    "print(\"So did we make a copy?\")\n",
    "print(array4)\n",
    "print(array5)\n",
    "print(\"Seems we did.\")"
   ]
  },
  {
   "cell_type": "markdown",
   "metadata": {
    "collapsed": true
   },
   "source": [
    "#### 2D array slicing"
   ]
  },
  {
   "cell_type": "code",
   "execution_count": null,
   "metadata": {},
   "outputs": [],
   "source": [
    "array6 = np.array([[2, 4, 6], [8, 10, 12], [14, 16, 18]])\n",
    "print(array6)\n",
    "# let's say you only want just the upper right square of 2x2 of the above matrix\n",
    "array6[:2, 1:]"
   ]
  },
  {
   "cell_type": "markdown",
   "metadata": {},
   "source": [
    "#### Fancy Indexing\n",
    "Sometimes you don't want to have every row, but perhaps skip a few entries. This is easily possible in python. Let us assume we only want the 2nd, 3rd, 5th, and 7th row in the following example."
   ]
  },
  {
   "cell_type": "code",
   "execution_count": null,
   "metadata": {},
   "outputs": [],
   "source": [
    "# Below we use a list comprehension (which you should have seen in Introduction to Programming as well)\n",
    "# To generate an array with 10 rows, and each column goes from 0 to 10.\n",
    "array7 = np.array([[j for i in range(10)] for j in range(10)])\n",
    "print(array7)\n",
    "# As we start at index 0, we actually want the following rows [1, 2, 4, 6].\n",
    "# Also note the double brackets below.\n",
    "print(array7[[1, 2],:5])\n",
    "print(array7[:,[2,4]])"
   ]
  },
  {
   "cell_type": "markdown",
   "metadata": {},
   "source": [
    "You can do the above in any order you wish."
   ]
  },
  {
   "cell_type": "code",
   "execution_count": null,
   "metadata": {},
   "outputs": [],
   "source": [
    "array7[[7, 3, 5, 2]]"
   ]
  },
  {
   "cell_type": "markdown",
   "metadata": {},
   "source": [
    "### Array Transposition"
   ]
  },
  {
   "cell_type": "code",
   "execution_count": null,
   "metadata": {},
   "outputs": [],
   "source": [
    "array8 = np.arange(40).reshape((8, 5))\n",
    "array8"
   ]
  },
  {
   "cell_type": "code",
   "execution_count": null,
   "metadata": {},
   "outputs": [],
   "source": [
    "# If you want to transpose a matrix you can go two ways:\n",
    "print(np.transpose(array8))\n",
    "# And\n",
    "print(array8.T)"
   ]
  },
  {
   "cell_type": "markdown",
   "metadata": {},
   "source": [
    "### Array Processing"
   ]
  },
  {
   "cell_type": "code",
   "execution_count": null,
   "metadata": {},
   "outputs": [],
   "source": [
    "# Range from -5 to 5\n",
    "points = np.arange(-5, 5, 0.01)\n",
    "print(points)"
   ]
  },
  {
   "cell_type": "code",
   "execution_count": null,
   "metadata": {},
   "outputs": [],
   "source": [
    "import matplotlib.pyplot as plt\n",
    "\n",
    "# Return a meshgrid based on two vectors.\n",
    "\n",
    "# it generates a len(x) times len(y) matrix.\n",
    "# This allows you to store the values needed to compare every value of x with every value of y.\n",
    "# If you input the same vector twice, dy is the transpose of dx\n",
    "dx, dy = np.meshgrid(points, points)\n",
    "\n",
    "z = (np.sin(dx) + np.sin(dy))\n",
    "plt.imshow(z)\n",
    "plt.colorbar()\n",
    "plt.title('plot for sin(x) + sin(y)')"
   ]
  },
  {
   "cell_type": "markdown",
   "metadata": {},
   "source": [
    "#### Numpy Where"
   ]
  },
  {
   "cell_type": "code",
   "execution_count": null,
   "metadata": {},
   "outputs": [],
   "source": [
    "# Numpy Where\n",
    "\n",
    "A = np.array([1, 2, 3, 4])\n",
    "B = np.array([100, 200, 300, 400])\n",
    "\n",
    "condition = np.array([True, True, False, False])\n",
    "\n",
    "print(A[condition])\n",
    "print(B[condition])"
   ]
  },
  {
   "cell_type": "code",
   "execution_count": null,
   "metadata": {},
   "outputs": [],
   "source": [
    "# Where my condition is met, choose A, else choose B\n",
    "answer = [(A_val if cond else B_val) for A_val, B_val, cond in zip(A, B, condition)]\n",
    "print(answer)"
   ]
  },
  {
   "cell_type": "code",
   "execution_count": null,
   "metadata": {},
   "outputs": [],
   "source": [
    "# Where my condition is met, choose A, else choose B\n",
    "answer2 = np.where(condition, A, B)\n",
    "print(answer2)"
   ]
  },
  {
   "cell_type": "markdown",
   "metadata": {},
   "source": [
    "#### Numpy Any & All"
   ]
  },
  {
   "cell_type": "code",
   "execution_count": null,
   "metadata": {},
   "outputs": [],
   "source": [
    "bool_arr = np.array([True, False, True, True])\n",
    "# There exist quite useful functions for a concept we call Masking."
   ]
  },
  {
   "cell_type": "code",
   "execution_count": null,
   "metadata": {},
   "outputs": [],
   "source": [
    "# If any value is true, return true (else false)\n",
    "bool_arr.any()"
   ]
  },
  {
   "cell_type": "code",
   "execution_count": null,
   "metadata": {},
   "outputs": [],
   "source": [
    "# If all values are true, return true (else false)\n",
    "bool_arr.all()"
   ]
  },
  {
   "cell_type": "markdown",
   "metadata": {},
   "source": [
    "#### Numpy Unique and `in` checking"
   ]
  },
  {
   "cell_type": "code",
   "execution_count": null,
   "metadata": {},
   "outputs": [],
   "source": [
    "# Sometimes you just want to know all the unique values in a numpy array, luckily that function was already implemented for you\n",
    "letters = ['A', 'B', 'C', 'D', 'D', 'A', 'E', 'F', 'G', 'H', 'Z']\n",
    "np.unique(letters)"
   ]
  },
  {
   "cell_type": "code",
   "execution_count": null,
   "metadata": {},
   "outputs": [],
   "source": [
    "# We can also easily check for a big array, if it exists within a 1D vector.\n",
    "np.in1d(['X', 'C', 'M', 'Z'], letters)"
   ]
  },
  {
   "cell_type": "markdown",
   "metadata": {},
   "source": [
    "## Step 2: Practice Numpy\n"
   ]
  },
  {
   "cell_type": "markdown",
   "metadata": {},
   "source": [
    "These are optional exercises which will get you familiar with Numpy. "
   ]
  },
  {
   "cell_type": "markdown",
   "metadata": {},
   "source": [
    "### Array Calculations and Array Indexing\n",
    "In all exercises below you are not allowed to use a loop in python."
   ]
  },
  {
   "cell_type": "code",
   "execution_count": null,
   "metadata": {},
   "outputs": [],
   "source": [
    "#Given two arrays A and B each of the same size calculate their sum (elementwise) and their product (elementwise)\n"
   ]
  },
  {
   "cell_type": "code",
   "execution_count": null,
   "metadata": {},
   "outputs": [],
   "source": [
    "#Calculate the mean of all elements in an array A without using the np.mean or np.average functions.\n"
   ]
  },
  {
   "cell_type": "code",
   "execution_count": null,
   "metadata": {},
   "outputs": [],
   "source": [
    "#Calculate the standard deviation of all elements in an array A without using np.var or np.std."
   ]
  },
  {
   "cell_type": "code",
   "execution_count": null,
   "metadata": {},
   "outputs": [],
   "source": [
    "#Given an array A with shape (128,) calculate the sum of the first, third, fifth, etc elements (A[0]+A[2]+...).\n"
   ]
  },
  {
   "cell_type": "code",
   "execution_count": null,
   "metadata": {},
   "outputs": [],
   "source": [
    "#Given an array A with shape (1024,) make an array B containing only the first 512 elements of A. I.e. B-shape should be (512,).\n"
   ]
  },
  {
   "cell_type": "code",
   "execution_count": null,
   "metadata": {},
   "outputs": [],
   "source": [
    "#Given an array A with shape (1024,) make an array B containing only the elements A[22],A[23],...,A[42].\n"
   ]
  },
  {
   "cell_type": "code",
   "execution_count": null,
   "metadata": {},
   "outputs": [],
   "source": [
    "#Given an array A with shape (1024,) and an integer array I make an array B whose elements are A[I[0]], A[I[1]], ..., A[I[-1]]\n"
   ]
  },
  {
   "cell_type": "code",
   "execution_count": null,
   "metadata": {},
   "outputs": [],
   "source": [
    "#Given an array A with shape (N,) make an array with all elements of A in reverse order.\n"
   ]
  },
  {
   "cell_type": "code",
   "execution_count": null,
   "metadata": {},
   "outputs": [],
   "source": [
    "#Given an array A = np.random.rand(128) make an array B containing all elements in A that are less then or equal to 0.5"
   ]
  },
  {
   "cell_type": "markdown",
   "metadata": {},
   "source": [
    "#### Two dimensional data arrays\n",
    "In this course you will be working a lot with matrices and vectors. The following exercises will let you practice with those.\n",
    "Given is data matrix X with shape (m,n)"
   ]
  },
  {
   "cell_type": "code",
   "execution_count": null,
   "metadata": {},
   "outputs": [],
   "source": [
    "#Select the i-th two from the matrix X. "
   ]
  },
  {
   "cell_type": "code",
   "execution_count": null,
   "metadata": {},
   "outputs": [],
   "source": [
    "#Select the j-th column from the matrix X."
   ]
  },
  {
   "cell_type": "code",
   "execution_count": null,
   "metadata": {},
   "outputs": [],
   "source": [
    "#Given a data matrix X with shape (m,n) calculate the vector M of shape (n,) where M[i] is the mean of the i-th column of X.\n"
   ]
  },
  {
   "cell_type": "code",
   "execution_count": null,
   "metadata": {},
   "outputs": [],
   "source": [
    "#Now subtract the mean vector you just calculated from all the rows in your matrix leading to the \n",
    "#data matrix X_0. Yes this can be done without a loop! Hint: look at array broadcasting."
   ]
  },
  {
   "cell_type": "code",
   "execution_count": null,
   "metadata": {},
   "outputs": [],
   "source": [
    "#For column F select a row which has the largest value of all the elements in this column.\n",
    "#Hint: look at the function np.argmax for this."
   ]
  },
  {
   "cell_type": "code",
   "execution_count": null,
   "metadata": {},
   "outputs": [],
   "source": [
    "#In a lot of algorithms we start with a data matrix X and then we would like to make a matrix X′ that is matrix X\n",
    "#but with a column prepended containing only the values 1. You can do that in a one-liner!"
   ]
  },
  {
   "cell_type": "markdown",
   "metadata": {},
   "source": [
    "#### Tricks with Arrays"
   ]
  },
  {
   "cell_type": "code",
   "execution_count": null,
   "metadata": {},
   "outputs": [],
   "source": [
    "#Given an array (vector) A of shape (N,) make it into an array B of shape (N,1)."
   ]
  },
  {
   "cell_type": "code",
   "execution_count": null,
   "metadata": {},
   "outputs": [],
   "source": [
    "#Given an array (vector) A of shape (N,) make it into an array B of shape (1,N)."
   ]
  },
  {
   "cell_type": "code",
   "execution_count": null,
   "metadata": {},
   "outputs": [],
   "source": [
    "#Given an array A of shape (M,N) what is A[i]? What are the valid values for i?"
   ]
  },
  {
   "cell_type": "code",
   "execution_count": null,
   "metadata": {},
   "outputs": [],
   "source": [
    "#Let A35 be an array of shape (3,5) and let v5 be an array of shape (5,). Subtract v5 from each row in A35."
   ]
  },
  {
   "cell_type": "code",
   "execution_count": null,
   "metadata": {},
   "outputs": [],
   "source": [
    "#Let A35 be an array of shape (3,5) and let v3 be an array of shape (3,). Subtract v3 from each column in A35."
   ]
  },
  {
   "cell_type": "markdown",
   "metadata": {},
   "source": [
    "#### Linear Algebra"
   ]
  },
  {
   "cell_type": "markdown",
   "metadata": {},
   "source": [
    "In Python 3 the @ operator is introduced for matrix multiplication. Let A be an array of shape (m,n) and \n",
    "let B be an array of shape (m,k) then we can write A @ B for the matrix multiplication of A and B. \n",
    "Note that there is conceptual difference between a 1 dimensional array V of size (N,) \n",
    "and a vector V as we know it from linear algebra. In linear algebra a vector with N elements has dimensions N×1. \n",
    "A ‘vector’ V as a numpy array has shape (N,).\n",
    "\n",
    "\n"
   ]
  },
  {
   "cell_type": "code",
   "execution_count": null,
   "metadata": {},
   "outputs": [],
   "source": [
    "#Calculate the inner product of two vector v and w both of shape (N,)."
   ]
  },
  {
   "cell_type": "code",
   "execution_count": null,
   "metadata": {},
   "outputs": [],
   "source": [
    "#Calculate the product of a matrix A of shape (M,N) with a vector v of shape (N,)."
   ]
  },
  {
   "cell_type": "code",
   "execution_count": null,
   "metadata": {},
   "outputs": [],
   "source": [
    "#Let v be an array of shape (N,). What is the shape of v.T (or np.transpose(v))"
   ]
  },
  {
   "cell_type": "code",
   "execution_count": null,
   "metadata": {},
   "outputs": [],
   "source": [
    "#Let A be an array of shape (3,5) and let v3 be an array of shape (3,). \n",
    "#We define v31 = v3.reshape(3,1). What is v3 @ A, v31 @ A and v31.T @ A?"
   ]
  }
 ],
 "metadata": {
  "kernelspec": {
   "display_name": "Python 3",
   "language": "python",
   "name": "python3"
  },
  "language_info": {
   "codemirror_mode": {
    "name": "ipython",
    "version": 3
   },
   "file_extension": ".py",
   "mimetype": "text/x-python",
   "name": "python",
   "nbconvert_exporter": "python",
   "pygments_lexer": "ipython3",
   "version": "3.7.0"
  }
 },
 "nbformat": 4,
 "nbformat_minor": 2
}
