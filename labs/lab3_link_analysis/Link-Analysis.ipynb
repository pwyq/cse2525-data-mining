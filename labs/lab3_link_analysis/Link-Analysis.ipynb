{
 "cells": [
  {
   "cell_type": "markdown",
   "metadata": {},
   "source": [
    "# Lab: Link Analysis\n",
    "Data Mining 2019/2020 <br> \n",
    "Authors: Data Mining Teaching Team\n",
    "\n",
    "**WHAT** This *optional* lab consists of several programming and insight exercises/questions. \n",
    "These exercises are ment to let you practice with the theory covered in: [Chapter 5][2] from \"Mining of Massive Datasets\" by J. Leskovec, A. Rajaraman, J. D. Ullman. <br>\n",
    "\n",
    "**WHY** Practicing, both through programming and answering the insight questions, aims at deepening your knowledge and preparing you for the exam. <br>\n",
    "\n",
    "**HOW** Follow the exercises in this notebook either on your own or with a friend. Use Mattermost\n",
    "to disscus questions with your peers. For additional questions and feedback please consult the TA's at the assigned lab session. The answers to these exercises will not be provided.\n",
    "\n",
    "\n",
    "[2]: http://infolab.stanford.edu/~ullman/mmds/ch5.pdf"
   ]
  },
  {
   "cell_type": "markdown",
   "metadata": {},
   "source": [
    "In this exercise you will create the PageRank algorithm, named after Larry Page, co-founder of\n",
    "Google. PageRank was designed to combat the growing number of term spammers. For this exercise\n",
    "we will look at PageRank and some of its adaptations. Finally we will use PageRank to compute\n",
    "which airports in the US are most important."
   ]
  },
  {
   "cell_type": "markdown",
   "metadata": {},
   "source": [
    "## Exercise 1: PageRank"
   ]
  },
  {
   "cell_type": "markdown",
   "metadata": {},
   "source": [
    "We will start this exercise with a small network, simulating the entire internet with a few sites. Then we will simulate what a random surfer would do on this network and where the random surfer is most likely to end up."
   ]
  },
  {
   "cell_type": "markdown",
   "metadata": {},
   "source": [
    "### Step 1\n",
    "\n",
    "Investigate the data of transitions from one vertex to the other in the example below. The data is of the form:\n",
    "\n",
    "### <center> source|destination|weight </center>\n",
    "\n",
    "In this case, all weights are set to 1, meaning all transitions are equally likely to happen."
   ]
  },
  {
   "cell_type": "markdown",
   "metadata": {},
   "source": [
    "**Example Data:**\n",
    "\n",
    "<center> A|C|1 </center>\n",
    "<center> A|D|1 </center> \n",
    "<center> B|A|1 </center> \n",
    "<center> B|D|1 </center> \n",
    "<center> C|A|1 </center> \n",
    "<center> D|B|1 </center> \n",
    "<center> D|C|1 </center> "
   ]
  },
  {
   "cell_type": "markdown",
   "metadata": {
    "collapsed": true
   },
   "source": [
    "### Question 1.1\n",
    "\n",
    "Draw the directed graph based on this data."
   ]
  },
  {
   "cell_type": "markdown",
   "metadata": {},
   "source": [
    "### Question 1.2\n",
    "\n",
    "Write out the transition matrix for this network. Verify that all columns sum up to 1."
   ]
  },
  {
   "cell_type": "markdown",
   "metadata": {},
   "source": [
    "### Question 1.3\n",
    "\n",
    "If we would initialze a random surfer at a random location, what are the chances for this random surfer to be at a ceratin location after one iteration? Manually calculate these probabilities."
   ]
  },
  {
   "cell_type": "markdown",
   "metadata": {},
   "source": [
    "### Step 2\n",
    "\n",
    "Create a PageRank object and import the data from the given example. Print the data object to see how the data is stored."
   ]
  },
  {
   "cell_type": "code",
   "execution_count": null,
   "metadata": {},
   "outputs": [],
   "source": [
    "from collections import OrderedDict\n",
    "\n",
    "# This path might be different on your local machine.\n",
    "example = 'data/example.txt'\n",
    "\n",
    "def importData(example): \n",
    "    \"\"\"\n",
    "    This function loads the given datasets in an OrderedDictionary Object and\n",
    "    can be used for the consecutive steps in this assignment.\n",
    "    :param example: The input file containing the (example) data\n",
    "    :return: A OrderedDictionary containing an OrderedDictionary for each data point\n",
    "    \"\"\"\n",
    "    \n",
    "    # extract data\n",
    "    lines = [line.rstrip('\\n') for line in open(example)]\n",
    "    \n",
    "    # init data structure\n",
    "    data = OrderedDict()\n",
    "    for l in lines:\n",
    "        line = l.split(\"|\")\n",
    "        data[line[0]] = OrderedDict()\n",
    "\n",
    "    # Set all possible connections with 0 \n",
    "    # ex) The OrderedDict of A should be like OrderedDict(('A', 0) ('B', 0), ...)\n",
    "    \n",
    "    # Insert code here!\n",
    "    \n",
    "    # Update connection with values given from example\n",
    "    # ex) The first element of the OrderedDict of B should be ('A', 1)\n",
    "    \n",
    "    # Insert code here!\n",
    "    \n",
    "    return data\n",
    " \n",
    "\n",
    "data = importData(example)\n",
    "data"
   ]
  },
  {
   "cell_type": "markdown",
   "metadata": {},
   "source": [
    "### Step 3\n",
    "\n",
    "Next, a transition matrix has to be constructed, by creating the function: `constructTransitionMatrix`."
   ]
  },
  {
   "cell_type": "code",
   "execution_count": null,
   "metadata": {},
   "outputs": [],
   "source": [
    "import numpy as np\n",
    "\n",
    "def constructTransitionMatrix(data):\n",
    "    \"\"\"\n",
    "    This function returns a transitionMatrix based on the data given by importData.\n",
    "    Note: You can convert ODict object to lists by list(ODict_Object).\n",
    "    :param data: The OrderedDictionary containing the input data\n",
    "    :return: An array representing the transition matrix\n",
    "    \"\"\"\n",
    "    matrix = None\n",
    "\n",
    "    # Insert code here!\n",
    "    \n",
    "    return matrix\n",
    "\n",
    "transMatrix = constructTransitionMatrix(data)\n",
    "transMatrix"
   ]
  },
  {
   "cell_type": "markdown",
   "metadata": {},
   "source": [
    "### Question 1.4\n",
    "\n",
    "Is the output matrix from the function `constructTransitionMatrix` the same as the matrix you calculated in question 1.2?"
   ]
  },
  {
   "cell_type": "markdown",
   "metadata": {},
   "source": [
    "### Step 4\n",
    "\n",
    "Finish the `getRandomSurfer` function which should create a row vector of length equal to the number of vertices in the data. Each element should have equal probability and should sum up to one. In other words, it should construct the following vector:\n",
    "\n",
    "<center>$v = \\begin{bmatrix}\\dfrac{1}{n} \\\\ \\dfrac{1}{n} \\\\ . \\\\ . \\\\ . \\\\ \\dfrac{1}{n}\\end{bmatrix}$</center>  \n",
    "  \n",
    "Where $n$ is the number of vertices in the data."
   ]
  },
  {
   "cell_type": "code",
   "execution_count": null,
   "metadata": {},
   "outputs": [],
   "source": [
    "\n",
    "def getRandomSurfer(data):\n",
    "    \"\"\"\n",
    "    This function returns a row vector of length equal to the number of vertices in the given data \n",
    "    :param data: The OrderedDictionary containing the input data\n",
    "    :return: An array where each value has the same probability summing up to 1\n",
    "    \"\"\"\n",
    "    result = None\n",
    "    \n",
    "    # Insert code here!\n",
    "    \n",
    "    return result\n",
    "\n",
    "getRandomSurfer(data)"
   ]
  },
  {
   "cell_type": "markdown",
   "metadata": {},
   "source": [
    "### Step 5\n",
    "\n",
    "Now complete the `calulatePageRank` function. This function should calculate a transition matrix, get a random surfer vector and multiply these for a number of iterations. The iterative step is:  \n",
    "\n",
    "<center>$v' = Mv$</center>  \n",
    "\n",
    "Where M is the transition matrix.\n",
    "\n",
    "Run the `calculatePageRank` function on the example dataset with 10 iterations. Verify that the result is approximately as follows:  \n",
    "\n",
    "<center>$v_{10} = \\begin{bmatrix}A \\\\ B \\\\ C \\\\ D\\end{bmatrix} = \\begin{bmatrix}0.354 \\\\ 0.119 \\\\ 0.294 \\\\ 0.233\\end{bmatrix}$</center>"
   ]
  },
  {
   "cell_type": "code",
   "execution_count": null,
   "metadata": {},
   "outputs": [],
   "source": [
    "def calculatePageRank(data, transMatrix, iterations):\n",
    "    \"\"\"\n",
    "    This function calculates the page rank based on the initial data of importData,\n",
    "    a given transitionMatrix (transMatrix) and a given amount of iterations.\n",
    "    :param data: The OrderedDictionary containing the input data\n",
    "    :param transMatrix: The transition matrix\n",
    "    :param iteration: The amount of iterations\n",
    "    :return: A set containing the PageRank for each data item.\n",
    "    \"\"\"\n",
    "    \n",
    "    # Init result\n",
    "    result = dict()\n",
    "    \n",
    "    # Take randomSurfer\n",
    "    \n",
    "    # Insert code here!\n",
    "    \n",
    "    # Take dot product of transMatrix and randomSurger (times iterations)  \n",
    "    # Set pagerank for each key of the given data\n",
    "    \n",
    "    # Insert code here!\n",
    "\n",
    "    return result\n",
    "\n",
    "calculatePageRank(data, transMatrix, 10)"
   ]
  },
  {
   "cell_type": "markdown",
   "metadata": {},
   "source": [
    "### Step 6\n",
    "\n",
    "Now run the calculatePageRank function on the `data/example2.txt` dataset with at least 10 iterations.   \n",
    "  \n",
    "**example2 Data:**  \n",
    "<center>A|C|1</center>\n",
    "<center>A|D|1</center>\n",
    "<center>B|A|1</center>\n",
    "<center>B|D|1</center>\n",
    "<center>C|C|1</center>\n",
    "<center>D|B|1</center>\n",
    "<center>D|C|1</center>\n",
    "\n",
    "As you can see this dataset is slightly different. The edge from C to A is replaced by an edge from C to C itself."
   ]
  },
  {
   "cell_type": "code",
   "execution_count": null,
   "metadata": {},
   "outputs": [],
   "source": [
    "# This path might be different on your local machine.\n",
    "example2 = 'data/example2.txt'\n",
    "\n",
    "# Replace this with your implementation!\n",
    "data2 = None\n",
    "transMatrix2 = None\n",
    "calculatePageRank(data2, transMatrix2, 10)"
   ]
  },
  {
   "cell_type": "markdown",
   "metadata": {},
   "source": [
    "### Question 1.5\n",
    "\n",
    "Explain the results you now get from the PageRank algorithm."
   ]
  },
  {
   "cell_type": "markdown",
   "metadata": {},
   "source": [
    "### Step 7\n",
    "\n",
    "In order to make sure nodes like these do not corrupt our results, we can use taxation to allow the random surfer to randomly jump from one page to another. This comes down to changing our iterative step to:\n",
    "\n",
    "<center>$v' = \\beta Mv + \\dfrac{(1 - \\beta)e}{n}$</center>  \n",
    "\n",
    "Where $e$ is a vector of all ones, $n$ is the number of vertices in the data and $\\beta$ is a constant.  \n",
    "Implement the function `taxationPageRank` which calculates this modified PageRank value using the iterative step. You may set $\\beta$ to 0.8."
   ]
  },
  {
   "cell_type": "code",
   "execution_count": null,
   "metadata": {},
   "outputs": [],
   "source": [
    "def taxationPageRank(data, transMatrix, beta, iterations):\n",
    "    \"\"\"\n",
    "    This function calculates the page rank using taxation based on the initial data \n",
    "    of importData, a given transitionMatrix (transMatrix), a given beta for the \n",
    "    taxation and a given amount of iterations\n",
    "    :param data: The OrderedDictionary containing the input data\n",
    "    :param transMatrix: The transition matrix\n",
    "    :param beta: The beta\n",
    "    :param iteration: The amount of iterations\n",
    "    :return: A set containing the PageRank for each data item.\n",
    "    \"\"\"\n",
    "    \n",
    "    # Init result\n",
    "    result = dict()\n",
    "    \n",
    "    # calc v' iteratively\n",
    "    # Set pagerank for each key of the given data\n",
    "    \n",
    "    # Insert code here!\n",
    "    \n",
    "    return result\n",
    "\n",
    "taxationPageRank(data2, transMatrix2, 0.8, 10)"
   ]
  },
  {
   "cell_type": "markdown",
   "metadata": {},
   "source": [
    "### Question 1.6\n",
    "\n",
    "Are the results better using the `taxationPageRank` function? What happens if we lower the beta? What happens if we increase the beta?"
   ]
  },
  {
   "cell_type": "markdown",
   "metadata": {},
   "source": [
    "### Step 8\n",
    "\n",
    "Check out the `data/flight_data.txt` file.  \n",
    "**flight_data (first 10 rows):**  \n",
    "<center>Cincinnati, OH|Omaha, NE|1</center>\n",
    "<center>Cincinnati, OH|Los Angeles, CA|56</center>\n",
    "<center>Cincinnati, OH|Milwaukee, WI|26</center>\n",
    "<center>Cincinnati, OH|Charlotte, NC|123</center>\n",
    "<center>Cincinnati, OH|Raleigh/Durham, NC|50</center>\n",
    "<center>Cincinnati, OH|Nashville, TN|50</center>\n",
    "<center>Cincinnati, OH|Chicago, IL|353</center>\n",
    "<center>Cincinnati, OH|Fort Myers, FL|34</center>\n",
    "<center>Cincinnati, OH|Orlando, FL|87</center>\n",
    "<center>Cincinnati, OH|San Francisco, CA|25</center>\n",
    "\n",
    "\n",
    "This file contains information reagrding airports in the US and flights between them. Each line represents a connection from one airport to another with the weight equal to the number of flights in January 2013. Run the algorithm on this dataset."
   ]
  },
  {
   "cell_type": "code",
   "execution_count": null,
   "metadata": {},
   "outputs": [],
   "source": [
    "# This path might be different on your local machine.\n",
    "example3 = 'data/flight_data.txt'\n",
    "\n",
    "# Replace this with your implementation!\n",
    "data3 = None\n",
    "transMatrix3 = None\n",
    "flightsPageRank = taxationPageRank(data3, transMatrix3, 0.8, 10)\n",
    "flightsPageRank"
   ]
  },
  {
   "cell_type": "markdown",
   "metadata": {},
   "source": [
    "### Question 1.7\n",
    "\n",
    "What is the most important airport according to the results?"
   ]
  },
  {
   "cell_type": "code",
   "execution_count": null,
   "metadata": {},
   "outputs": [],
   "source": [
    "import operator\n",
    "\n",
    "max(flightsPageRank.items(), key=operator.itemgetter(1))"
   ]
  }
 ],
 "metadata": {
  "kernelspec": {
   "display_name": "Python 3",
   "language": "python",
   "name": "python3"
  },
  "language_info": {
   "codemirror_mode": {
    "name": "ipython",
    "version": 3
   },
   "file_extension": ".py",
   "mimetype": "text/x-python",
   "name": "python",
   "nbconvert_exporter": "python",
   "pygments_lexer": "ipython3",
   "version": "3.7.4"
  }
 },
 "nbformat": 4,
 "nbformat_minor": 2
}
