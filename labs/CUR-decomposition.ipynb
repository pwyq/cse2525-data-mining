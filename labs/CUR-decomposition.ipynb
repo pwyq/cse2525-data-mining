{
 "cells": [
  {
   "cell_type": "markdown",
   "metadata": {},
   "source": [
    "# Lab: Dimensionality Reduction\n",
    "Data Mining 2018/2019 <br> Mirco Kroon and Gosia Migut\n",
    "\n",
    "**WHAT** This optional lab consists of several programming and insight exercises/questions. \n",
    "These exercises are ment to let you practice with the theory covered in: Chapter 11 (section 4) from \"Mining of Massive Datasets\" by J. Leskovec, A. Rajaraman, J. D. Ullman.\n",
    "\n",
    "**WHY** Practicing, both through programming and answering the insight questions, aims at deepening your knowledge and preparing you for the exam. \n",
    "\n",
    "**HOW** Follow the exercises in this notebook either on your own or with a friend. Use Mattermost\n",
    "to disscus questions with your peers. For additional questions and feedback please consult the TA's at the assigned lab session. The answers to these exercises will not be provided. \n",
    "\n",
    "**SUMMARY** In the following two exercises you will create an algorithm to perform CUR decomposition on\n",
    "datasets. Afterwards you can compare the performance of CUR decomposition to regular Singular Value Decomposition.\n",
    "\n",
    "\n",
    "This excercise is based on CUR-decomposition as described in section 11.4 of the course book. It is required that you read this section before making this assignment. You can use the example in the book to validate your solution."
   ]
  },
  {
   "attachments": {
    "image.png": {
     "image/png": "[encoded data removed]"
    }
   },
   "cell_type": "markdown",
   "metadata": {},
   "source": [
    "# Exercise 1: implementing CUR\n",
    "## Step 0:\n",
    "For our input, we will use the example from the book. Note that your answers may differ due to the probabilistic nature of the algorithm. Using a fixed random seed may help to make your solutions consistent.\n",
    "\n",
    "Below is the dataset of film ratings we we will be using:\n",
    "![image.png](attachment:image.png)\n",
    "\n",
    "A matrix of this data is given below."
   ]
  },
  {
   "cell_type": "code",
   "execution_count": null,
   "metadata": {},
   "outputs": [],
   "source": [
    "import numpy as np\n",
    "import time\n",
    "\n",
    "M = np.matrix([\n",
    "    [1, 1, 1, 0, 0],\n",
    "    [3, 3, 3, 0, 0],\n",
    "    [4, 4, 4, 0, 0],\n",
    "    [5, 5, 5, 0, 0],\n",
    "    [0, 0, 0, 4, 4],\n",
    "    [0, 0, 0, 5, 5], \n",
    "    [0, 0, 0, 2, 2]   \n",
    "])\n",
    "\n",
    "print(M)"
   ]
  },
  {
   "cell_type": "markdown",
   "metadata": {},
   "source": [
    "## Step 1:\n",
    "To make our CUR-decomposition, we will create our three matrices one at a time, starting with matrix `C`. Matrix `C` consists of columns from `M`, chosen based on a weighed probability distribution such that more 'important' columns have a higher chance of being chosen.\n",
    "\n",
    "First we need to compute our weighed probabilities so that we can use this later to select our columns. The probability for each column is computed by the sum of squares of the values in the column, divided by the sum of squares of all values in the matrix. For example, the first column in the example will have a probability of 51/243 = 0.210.\n",
    "\n",
    "Below, implement the function so that the output is an array of probabilities for each of the columns."
   ]
  },
  {
   "cell_type": "code",
   "execution_count": null,
   "metadata": {},
   "outputs": [],
   "source": [
    "def compute_column_probabilities(M):\n",
    "    probabilities = np.zeros(M.shape[1])\n",
    "    \n",
    "    # Start coding here!\n",
    "    \n",
    "    return probabilities\n",
    "\n",
    "compute_column_probabilities(M)"
   ]
  },
  {
   "cell_type": "markdown",
   "metadata": {},
   "source": [
    "## Question 1\n",
    "\n",
    "Why is it necessary to compute these probabilities? What do they tell us?"
   ]
  },
  {
   "cell_type": "markdown",
   "metadata": {},
   "source": [
    "## Step 2:\n",
    "Now we will use the probability distribution to randomly select $r$ columns for our matrix $C$, such that columns with a higher probability value have a higher chance of being picked.\n",
    "\n",
    "Then we must scale these columns by their probability of being chosen. This probability is given by $\\sqrt{r * p}$, where $r$ is the number of columns we are selecting and $p$ is the probability of this particular column. For example, let's say we take a sample of 2 columns ($r = 2$). For our first column of $C$, we might get the first column of $M$, which will then be divided by $\\sqrt{2 * 0.210}$ to get our final column for $C$.\n",
    "\n",
    "Implement the function below to randomly select $r$ columns from the matrix $M$, and then place the scaled columns in output matrix $C$. **The function must return both the matrix $C$ and the indices for the selected colums, as these will be needed later.**\n",
    "\n",
    "**Hint: You can use the `numpy.random.choice` function to choose the columns based on the probabilities**"
   ]
  },
  {
   "cell_type": "code",
   "execution_count": null,
   "metadata": {},
   "outputs": [],
   "source": [
    "from numpy.random import choice\n",
    "import math\n",
    "\n",
    "def construct_c(M, r):\n",
    "    C = np.zeros([M.shape[0], r]) \n",
    "    \n",
    "    # Start coding here!\n",
    "    \n",
    "    #Replace this with your implementation!\n",
    "    columns = []\n",
    "    \n",
    "    return C, columns\n",
    "\n",
    "C, columns = construct_c(M, 2)\n",
    "print(C, columns)"
   ]
  },
  {
   "cell_type": "markdown",
   "metadata": {},
   "source": [
    "## Step 3:\n",
    "Now complete the implementation of $R$ similar to matrix $C$. Again, the function must return both the matrix $R$ and the indices for the selected rows.\n",
    "\n",
    "**Hint: this may be significantly fewer lines of code now that you have already implemented `construct_c`**"
   ]
  },
  {
   "cell_type": "code",
   "execution_count": null,
   "metadata": {},
   "outputs": [],
   "source": [
    "def construct_r(M, r):\n",
    "    \n",
    "    # Start coding here!\n",
    "    \n",
    "    # Replace this with your implementation!\n",
    "    return np.zeros([r, M.shape[1]])\n",
    "    \n",
    "R, rows = construct_r(M, 2)\n",
    "print(R, rows)"
   ]
  },
  {
   "cell_type": "markdown",
   "metadata": {},
   "source": [
    "## Step 4:\n",
    "To complete our CUR decomposition, we need to compute matrix $U$. The input for this function will include the indices for the selected rows and columns from the construction of matrices $C$ and $R$.\n",
    "\n",
    "Matrix $U$ will be based on another matrix $W$, both of which will be $r ✕ r$ matrices. For matrix $W$, the value of element $(i, j)$ will be the value in matrix $M$ from the $i$th selected row, and the $j$th selected column. For example, if our first column of $C$ was column 2, and our first row of $R$ was row 3, then the value of the first (top-left) element in matrix $W$ will be 4.\n",
    "\n",
    "Below, complete the function by implementing the construction of matrix $W$."
   ]
  },
  {
   "cell_type": "code",
   "execution_count": null,
   "metadata": {},
   "outputs": [],
   "source": [
    "def construct_u(M, r, rows, columns):\n",
    "    W = np.zeros([r, r])\n",
    "    \n",
    "    # Start coding here!\n",
    "      \n",
    "    # compute U from W\n",
    "    X, E, Yt = np.linalg.svd(W)\n",
    "    E =  np.linalg.pinv(np.diag(E)) ** 2\n",
    "    U = np.matmul(np.matmul(Yt.T, E), X.T)    \n",
    "    \n",
    "    return U\n",
    "    \n",
    "construct_u(M, 2, rows, columns)"
   ]
  },
  {
   "cell_type": "markdown",
   "metadata": {},
   "source": [
    "## Step 5:\n",
    "Now that we can compute all three matrices, we can compute our final CUR matrix by computing $C ✕ U ✕ R$. Complete the function below by adding the computations for $C$, $R$ and $U$."
   ]
  },
  {
   "cell_type": "code",
   "execution_count": null,
   "metadata": {},
   "outputs": [],
   "source": [
    "def cur(M, r):\n",
    "    \n",
    "    # Start coding here!\n",
    "    \n",
    "    # Replace this with your implementation!\n",
    "    C = []\n",
    "    R = []\n",
    "    U = []\n",
    "    \n",
    "    return C, U, R\n",
    "    # Alternatively, you can return the result of multiplying the three matrices together:\n",
    "    # return np.matmul(np.matmul(C, U), R)\n",
    "\n",
    "cur(M, 7)"
   ]
  },
  {
   "cell_type": "markdown",
   "metadata": {},
   "source": [
    "# Exercise 2: performance comparison\n",
    "## Step 1:\n",
    "Now that we have implemented CUR decomposition, we should compare the efficiency of this algorithm compared to regular SVD. First, let's generate some random data. Complete the `set_value` lambda function below to generate a large sparse matrix with random ratings between 1 and 5."
   ]
  },
  {
   "cell_type": "code",
   "execution_count": null,
   "metadata": {},
   "outputs": [],
   "source": [
    "density = 0.10\n",
    "width = 1000\n",
    "height = 10000\n",
    "\n",
    "def generate_sparse_matrix(density, width, height):\n",
    "    M = np.zeros([width, height])\n",
    "    \n",
    "    # Start coding here!\n",
    "    set_value = lambda x: 0\n",
    "    \n",
    "    return np.vectorize(set_value)(M)\n",
    "\n",
    "print(\"Generating data ...\")\n",
    "M = generate_sparse_matrix(density, width, height)\n",
    "print(\"Done!\")"
   ]
  },
  {
   "cell_type": "markdown",
   "metadata": {},
   "source": [
    "## Step 2:\n",
    "Now let's use this generated matrix to compare the running time of the two algorithms. Run both of them below and compare the results."
   ]
  },
  {
   "cell_type": "code",
   "execution_count": null,
   "metadata": {},
   "outputs": [],
   "source": [
    "print(\"Running SVD decomposition ...\")\n",
    "start = time.time()\n",
    "\n",
    "np.linalg.svd(M)\n",
    "\n",
    "print(\"Completed in: \" + str(round(time.time() - start, 2)) + \" seconds\")"
   ]
  },
  {
   "cell_type": "code",
   "execution_count": null,
   "metadata": {},
   "outputs": [],
   "source": [
    "print(\"Running CUR decomposition ...\")\n",
    "start = time.time()\n",
    "\n",
    "r = 500\n",
    "cur(M, r)\n",
    "\n",
    "print(\"Completed in: \" + str(round(time.time() - start, 2)) + \" seconds\")"
   ]
  },
  {
   "cell_type": "markdown",
   "metadata": {},
   "source": [
    "### Question 1:\n",
    "What is the effect of changing the value of $r$ on the running time of the algorithm? \n",
    "\n",
    "### Question 2:\n",
    "What factors might go into deciding a suitable value of $r$ besides the running time?\n",
    "\n",
    "### Question 3: \n",
    "What do you think might be a realistic value for $r$ for the generated matrix?"
   ]
  }
 ],
 "metadata": {
  "kernelspec": {
   "display_name": "Python 3",
   "language": "python",
   "name": "python3"
  },
  "language_info": {
   "codemirror_mode": {
    "name": "ipython",
    "version": 3
   },
   "file_extension": ".py",
   "mimetype": "text/x-python",
   "name": "python",
   "nbconvert_exporter": "python",
   "pygments_lexer": "ipython3",
   "version": "3.7.1"
  }
 },
 "nbformat": 4,
 "nbformat_minor": 2
}
