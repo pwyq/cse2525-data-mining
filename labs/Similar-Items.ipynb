{
 "cells": [
  {
   "cell_type": "markdown",
   "metadata": {},
   "source": [
    "# Lab: Finding Similar Items\n",
    "Data Mining 2019/2020 <br> \n",
    "Author: Data Mining Teaching Team\n",
    "\n",
    "**WHAT** This *optional* lab consists of several programming and insight exercises/questions. \n",
    "These exercises are ment to let you practice with the theory covered in: [Chapter 3][2] from \"Mining of Massive Datasets\" by J. Leskovec, A. Rajaraman, J. D. Ullman. <br>\n",
    "\n",
    "**WHY** Practicing, both through programming and answering the insight questions, aims at deepening your knowledge and preparing you for the exam. <br>\n",
    "\n",
    "**HOW** Follow the exercises in this notebook either on your own or with a friend. Talk to other students or use mattermost\n",
    "to disscus questions with your peers. For additional questions and feedback please consult the TA's at the assigned lab session. The answers to these exercises will not be provided.\n",
    "\n",
    "[1]: https://mattermost.ewi.tudelft.nl/signup_user_complete/?id=ccffzw3cdjrkxkksq79qbxww7a\n",
    "[2]: http://infolab.stanford.edu/~ullman/mmds/ch3.pdf"
   ]
  },
  {
   "cell_type": "markdown",
   "metadata": {},
   "source": [
    "**SUMMARY** <br>\n",
    "In these exercises, you will create algorithms for finding similar items in a dataset. \n",
    "* Exercise 1: Shingles    \n",
    "* Exercise 2: MinHasing\n",
    "* Exercise 3: Locality Sensitive Hashing\n"
   ]
  },
  {
   "cell_type": "markdown",
   "metadata": {},
   "source": [
    "## Exercise 1: Shingles"
   ]
  },
  {
   "cell_type": "markdown",
   "metadata": {},
   "source": [
    "### Step 1: implement shingleString\n",
    "\n",
    "First we will implement the shingleString function. This function takes as argument a string and the size parameter k, cuts  the string up in shingles of size k, and returns the a set of shingles. \n",
    "\n",
    "For example, if the input string is: \"abcdabd\" the resulting string ShingleSet, with a k of 2 should be: {\"ab\", \"bc\", \"cd\", \"da\", \"bd\"}\n",
    "\n",
    "Implement this function and verify that it works as intended."
   ]
  },
  {
   "cell_type": "code",
   "execution_count": null,
   "metadata": {},
   "outputs": [],
   "source": [
    "def shingleString(string, k):\n",
    "    \"\"\"\n",
    "    This function takes as argument some string and cuts it up in shingles of size k.\n",
    "    input (\"abcdabd\", 2) -> {'ab', 'bc', 'cd', 'da', 'bd'}\n",
    "    :param string: The input string\n",
    "    :param k: The size of the shingles\n",
    "    :return: A Set of Shingles with size k\n",
    "    \"\"\"    \n",
    "    shingles = set()\n",
    "    \n",
    "    # Start coding here!\n",
    "    \n",
    "    return shingles\n",
    "\n",
    "shingleString(\"abcdabd\", 2)"
   ]
  },
  {
   "cell_type": "markdown",
   "metadata": {},
   "source": [
    "### Question \n",
    "\n",
    "What would be the output of the ShingleSet with k set to 4? Will the size of the ShingleSet increase of decrease? "
   ]
  },
  {
   "cell_type": "markdown",
   "metadata": {},
   "source": [
    "### Step 2: implement JaccardDistance\n",
    "\n",
    "Next we will be implementing the jaccardDistance function. This function takes as input two sets and computes the distance between them. Remember that the Jaccard distance can be calculated as follows: \n",
    "\n",
    "# <center> $d(A, B) = 1 - \\frac{| A \\cap B|}{|A \\cup B|}$ </center>\n",
    "\n"
   ]
  },
  {
   "cell_type": "code",
   "execution_count": null,
   "metadata": {},
   "outputs": [],
   "source": [
    "def jaccardDistance(a, b):\n",
    "    \"\"\"\n",
    "    This function takes as input two sets and computes the distance between them -> 1 - length(intersection)/length(union)\n",
    "    :param a: The first set\n",
    "    :param b: The second set to compare\n",
    "    :return: The (Jaccard) distance between set 'a' and 'b' (0 =< distance =< 1)\n",
    "    \"\"\"    \n",
    "    \n",
    "    distance = -1.0\n",
    "    \n",
    "    # Start coding here!\n",
    "    \n",
    "    return distance\n",
    "\n",
    "jaccardDistance({\"ab\"}, {\"ab\"})"
   ]
  },
  {
   "cell_type": "markdown",
   "metadata": {},
   "source": [
    "### Step 3: apply shingleString and JaccardDistance\n",
    "\n",
    "Create two separate ShingleSets with k set to 5 (using shingleString from step 1) from the following strings:  \n",
    "\n",
    "<center> \"The plane was ready for touch down\"</center> \n",
    "\n",
    "<center> \"The quarterback scored a touchdown\"</center>\n",
    "\n",
    "Are these sentences very similar? Do you expect that the Jaccard distance between these two sentences will be large or small? <br>\n",
    "Calculate the Jaccard distance between these two sets using the function implemented in step 2."
   ]
  },
  {
   "cell_type": "code",
   "execution_count": null,
   "metadata": {},
   "outputs": [],
   "source": [
    "s1 = \"The plane was ready for touch down\"\n",
    "s2 = \"The quarterback scored a touchdown\"\n",
    "\n",
    "def jaccardDistanceUnstripped(s1, s2):\n",
    "    \"\"\"\n",
    "    This function calculates the jaccard distance between two strings.\n",
    "    :param a: The first string\n",
    "    :param b: The second string to compare\n",
    "    :return: The (Jaccard) distance between string 'a' and 'b' (0 =< distance =< 1)\n",
    "    \"\"\"   \n",
    "    # Start coding here!\n",
    "    \n",
    "    return -1.0\n",
    "    \n",
    "jaccardDistanceUnstripped(s1, s2)"
   ]
  },
  {
   "cell_type": "markdown",
   "metadata": {},
   "source": [
    "### Question\n",
    "\n",
    "The jaccard distance you calculated for the above sentences should be equal to 0.96.\n",
    "What would happend if we lower our k to 1? Would it increase or decrease the distance between the two sets? Which k would be appropriate for these two sentences?  "
   ]
  },
  {
   "cell_type": "markdown",
   "metadata": {},
   "source": [
    "### Step 4: remove whitespaces\n",
    "\n",
    "Both sentences from step 3 contain whitespaces, but they appear not to contribute much to the actual meaning of the sentence. An option would be to strip all whitespaces from the sentences before cutting them into shingles. Create a function that removes all whitespaces from the strings before creating any shingles and calculate the jaccard distance again."
   ]
  },
  {
   "cell_type": "code",
   "execution_count": null,
   "metadata": {},
   "outputs": [],
   "source": [
    "def jaccardDistanceStripped(s1, s2):\n",
    "    \"\"\"\n",
    "    This method computes the JaccardDistance between two ShingleSets without any white spaces in the original strings\n",
    "    :param a: The first string\n",
    "    :param b: The second string to compare\n",
    "    :return: The (Jaccard) distance between string 'a' and 'b' (0 =< distance =< 1)\n",
    "    \"\"\"  \n",
    "    # Start coding here!\n",
    "    \n",
    "    return -1.0\n",
    "\n",
    "jaccardDistanceStripped(s1, s2)"
   ]
  },
  {
   "cell_type": "markdown",
   "metadata": {},
   "source": [
    "### Question \n",
    "\n",
    "Did the jaccard distance between the two sets increase or decrease? Why is that?"
   ]
  },
  {
   "cell_type": "markdown",
   "metadata": {},
   "source": [
    "# Exercise 2: MinHashing"
   ]
  },
  {
   "cell_type": "markdown",
   "metadata": {},
   "source": [
    "In this exercise you will be creating a minhashing signature matrix. "
   ]
  },
  {
   "cell_type": "markdown",
   "metadata": {},
   "source": [
    "### Step 1\n",
    "Firstly, for this exercises you are given 4 ShingleSets: s1-s4, with k set to 1."
   ]
  },
  {
   "cell_type": "code",
   "execution_count": null,
   "metadata": {},
   "outputs": [],
   "source": [
    "s1 = {\"a\",\"b\"}\n",
    "s2 = {\"a\",\"c\"}\n",
    "s3 = {\"d\", \"c\"}\n",
    "s4 = {\"g\", \"b\", \"a\"}\n",
    "\n",
    "# Init Shingle sets\n",
    "sets = [s1,s2,s3,s4]"
   ]
  },
  {
   "cell_type": "markdown",
   "metadata": {},
   "source": [
    "Secondly, create a function which hashes an integer $x$ given an $alpha$ and $beta$. The function should hash a value $x$ given the formula:\n",
    "\n",
    "<center> $h(x) = ((x * alpha) + beta)$ $mod$ $n$ </center>\n",
    "\n",
    "where $x$ is an integer and $n$ is the number of unique shingles of all sets. <br>\n",
    "For example for $x$=3 and $n$=2 you should get $h(x)$ = 0."
   ]
  },
  {
   "cell_type": "code",
   "execution_count": null,
   "metadata": {},
   "outputs": [],
   "source": [
    "class HashFunction:\n",
    "    \"\"\"\n",
    "    This HashFunction class can be used to create an unique hash given an alpha and beta\n",
    "    \"\"\"\n",
    "    def __init__(self, alpha, beta):\n",
    "        self.alpha = alpha\n",
    "        self.beta = beta\n",
    "\n",
    "    def hashf(self, x, n):\n",
    "        \"\"\"\n",
    "        Returns a hash given an integer x and n\n",
    "        :param x: The value to be hashed\n",
    "        :param n: The number of unique shingles of all sets\n",
    "        :return: The hashed value x given alpha and beta\n",
    "        \"\"\"\n",
    "        # Replace this with your implementation!\n",
    "        hash_value = -1\n",
    "        \n",
    "        return hash_value\n",
    "\n",
    "# Assume alpha and beta equal 1\n",
    "h1 = HashFunction(1,1)\n",
    "\n",
    "# Solve \n",
    "h1.hashf(3, 2)       "
   ]
  },
  {
   "cell_type": "markdown",
   "metadata": {},
   "source": [
    "### Question \n",
    "To gain some insight in computing minhash signature matrices, compute the MinHash\n",
    "signature by hand of the given ShingleSets above using the the hash functions $h_1$ and $h_2$. Do\n",
    "this computation by hand! Refer to the slides or study material if you forgot how to do this.  "
   ]
  },
  {
   "cell_type": "markdown",
   "metadata": {},
   "source": [
    "### Step 2.\n",
    "\n",
    "Next we are going to create the `computeSignature` function which will create the minhash signature matrix from our sets `s1`-`s4` using our hashfunctions $h_1$ and $h_2$. You could make use of the pseudocode below.\n",
    "  \n",
    "``` python\n",
    "foreach shingle x in the shingle space do \n",
    "    foreach ShingleSet S do\n",
    "        if x ∈ S then\n",
    "            foreach hash function h do\n",
    "                signature(h, S) = min(h(x), signature(h, S))\n",
    "            end\n",
    "        end\n",
    "    end\n",
    "end\n",
    "```"
   ]
  },
  {
   "cell_type": "code",
   "execution_count": null,
   "metadata": {},
   "outputs": [],
   "source": [
    "def shingleSpace(sets):\n",
    "    \"\"\"\n",
    "    Sets up the total shingle space given the list of shingles (sets)\n",
    "    :param sets: A list of ShingleSets\n",
    "    :return: The ShingleSpace set\n",
    "    \"\"\"\n",
    "    space = set()\n",
    "    \n",
    "    # Start coding here!\n",
    "    \n",
    "    return space\n",
    "\n",
    "\n",
    "# Init List of hash functions\n",
    "hashes = list()\n",
    "\n",
    "h1 = HashFunction(1,1)\n",
    "h2 = HashFunction(3,1)\n",
    "\n",
    "hashes.append(h1)\n",
    "hashes.append(h2)"
   ]
  },
  {
   "cell_type": "code",
   "execution_count": null,
   "metadata": {},
   "outputs": [],
   "source": [
    "import numpy as np\n",
    "import sys\n",
    "\n",
    "space = shingleSpace(sets)\n",
    "sortedSpace = sorted(space)\n",
    "\n",
    "def computeSignature(space, hashes, sets):\n",
    "    \"\"\"\n",
    "    This function will create the minhash signature matrix from our sets s1-s4 \n",
    "    using the list of hashfunction hashes and the shingleSpace space\n",
    "    :param space: The ShingleSpace set\n",
    "    :param hashes: The list of hashes\n",
    "    :param sets: The list of ShingleSets\n",
    "    :return: The MinHashSignature\n",
    "    \"\"\"\n",
    "    \n",
    "    result = np.full((len(hashes),len(sets)), sys.maxsize)\n",
    "    \n",
    "    # Start coding here!\n",
    "    \n",
    "    return result\n",
    "\n",
    "computeSignature(space, hashes, sets)"
   ]
  },
  {
   "cell_type": "markdown",
   "metadata": {},
   "source": [
    "### Question\n",
    "\n",
    "Compute the minhash signature matrix using your implemented function. Verify that the result of your implementation is correct by comparing the answers of your program to the answers of your manual calculation."
   ]
  },
  {
   "cell_type": "markdown",
   "metadata": {},
   "source": [
    "## Exercise 3: Locality Sensitive Hashing"
   ]
  },
  {
   "cell_type": "markdown",
   "metadata": {},
   "source": [
    "In this part of the exercise we will use the implemented function of the last exercises to compute a Locality-Sensitive Hashing Table using the banding technique for minhashes described in the lecture and in the book."
   ]
  },
  {
   "cell_type": "markdown",
   "metadata": {},
   "source": [
    "### Step 1.\n",
    "For this exercise we will be needing many hashfunctions. Construct a class which can create a hashfunction with a random $alpha$ and $beta$."
   ]
  },
  {
   "cell_type": "code",
   "execution_count": null,
   "metadata": {},
   "outputs": [],
   "source": [
    "import random\n",
    "\n",
    "class RandomHashFunction:\n",
    "    \"\"\"\n",
    "    This RandomHashFunction class can be used to create a random unique hash given an alpha and beta\n",
    "    \"\"\"\n",
    "    def __init__(self, alpha, beta):\n",
    "        self.alpha = (random.randint(1,alpha))\n",
    "        self.beta = (random.randint(1,beta))\n",
    "        \n",
    "    def hashf(self, x, n):\n",
    "        \"\"\"\n",
    "        Returns a random hash given an integer x and n\n",
    "        :param x: The value to be hashed\n",
    "        :param n: The number of unique shingles of all sets\n",
    "        :return: The hashed value x given alpha and beta\n",
    "        \"\"\"\n",
    "        \n",
    "        # Replace this with your implementation!\n",
    "        hash_value = -1\n",
    "\n",
    "        return hash_value\n",
    "    "
   ]
  },
  {
   "cell_type": "markdown",
   "metadata": {},
   "source": [
    "### Step 2.\n",
    "\n",
    "Now create a function which computes the candidates using the LSH technique given a Minhash table. For this you may use the pseudocode given below.  \n",
    "  \n",
    "``` python\n",
    "# Initialize buckets\n",
    "foreach band do\n",
    "    foreach set do\n",
    "        s = a column segment of length r, for this band and set\n",
    "        add set to buckets[hash(s),band]\n",
    "    end\n",
    "end\n",
    "```  \n",
    "   \n",
    "``` python\n",
    "# Retrieve candidates\n",
    "foreach item in buckets[hash(s),band] do\n",
    "    add [set,item] to the list of candidates\n",
    "end\n",
    "\n",
    "```"
   ]
  },
  {
   "cell_type": "code",
   "execution_count": null,
   "metadata": {},
   "outputs": [],
   "source": [
    "def computeCandidates(mhs, bs, r):\n",
    "    \"\"\"\n",
    "    This function computes the candidates using the LSH technique given a Minhash table\n",
    "    :param mhs: The minhash table\n",
    "    :param bs: The bucketsize\n",
    "    :param r: The rows per band\n",
    "    :return: The list of candidates\n",
    "    \"\"\"\n",
    "    \n",
    "    assert(mhs.shape[0] % r == 0)\n",
    "    b = mhs.shape[0] / r\n",
    "    result = set()\n",
    "    buckets = list()\n",
    "  \n",
    "    for i in range(bs):\n",
    "        buckets.append(list())\n",
    "\n",
    "    # Initialize the buckets\n",
    "    for i in range(int(b)):\n",
    "        for j in range(mhs.shape[1]):\n",
    "            # Take segment from mhs column\n",
    "            colSegment = mhs[i*r:(i+1)*r,[j]]\n",
    "            \n",
    "            # Convert column segement to string\n",
    "            s = np.array2string(colSegment.flatten(), separator = '')\n",
    "            s = s[1:len(s)-1]\n",
    "            \n",
    "            # Init bucket list item\n",
    "            item = list()\n",
    "            \n",
    "            # Append string (s) to the bucket list (buckets)\n",
    "            \n",
    "            # Start coding here!\n",
    "    \n",
    "    \n",
    "    # Retrieve the candidates\n",
    "    for item in buckets:   \n",
    "        item = set(item)\n",
    "        \n",
    "        # Start coding here!\n",
    "        \n",
    "    for x in result:\n",
    "        jd = jaccardDistance(sets[x[0]], sets[x[1]])\n",
    "        if jd < 0.5:\n",
    "            print(\"ShingleSets: \", x, \"within tolerenace   jaccard distance: \", jd)\n",
    "        else:\n",
    "            print(\"ShingleSets: \", x, \"not within tolerance   jaccard distance: \", jd)\n",
    "    return result"
   ]
  },
  {
   "cell_type": "markdown",
   "metadata": {},
   "source": [
    "### Question \n",
    "An important implementation issue is that you should keep seperate lists of buckets for each band. This means that this algorithm will work suboptimal if you index the buckets only as: buckets[hash(s)] instead of buckets[hash(s),band]. Why is this the case?  "
   ]
  },
  {
   "cell_type": "markdown",
   "metadata": {},
   "source": [
    "### Step 3. \n",
    "Similarly as before, compute the minhash signature matrix using the 100 random hash functions. Use a bucket size of 1000 and 5 rows per band."
   ]
  },
  {
   "cell_type": "code",
   "execution_count": null,
   "metadata": {},
   "outputs": [],
   "source": [
    "# Init list for the 100 random hashes\n",
    "rhashes = [RandomHashFunction(100,100) for x in range(100)]\n",
    "\n",
    "# Calculate Minhash Table\n",
    "mhs = computeSignature(space, rhashes, sets)\n",
    "\n",
    "# Apply Locally Sensitive Hashing to find candidate pairs\n",
    "computeCandidates(mhs, 10000, 5)"
   ]
  },
  {
   "cell_type": "markdown",
   "metadata": {},
   "source": [
    "### Question\n",
    "When you run your code multiple times you will notice that sometimes you get other candidates. Why?  "
   ]
  },
  {
   "cell_type": "markdown",
   "metadata": {},
   "source": [
    "### Question \n",
    "Run your code 10 times. Take notes which candidates get suggested and how many times each candidate gets suggested. How does this relate to the Jaccard distance between the two\n",
    "sets of the candidate pair (not in terms of formulas, just an indication)? To check this, compute the Jaccard distance between all possible combinations of all ShingleSets and compare this to the frequencies (how many times a pair gets suggested as a candidate) to verify your idea."
   ]
  },
  {
   "cell_type": "markdown",
   "metadata": {},
   "source": [
    "### Question\n",
    "Why (or when) would you use this algorithm?"
   ]
  },
  {
   "cell_type": "markdown",
   "metadata": {},
   "source": [
    "### Question \n",
    "What happens if the number of buckets is too small? For example what would happen\n",
    "if we only use 10 buckets?  "
   ]
  },
  {
   "cell_type": "markdown",
   "metadata": {},
   "source": [
    "### Question \n",
    "What is the effect of the number of rows per band? If we set the number of rows per band to 1, what will happen? And if you set the number of rows per band to the length of the\n",
    "signature?  "
   ]
  },
  {
   "cell_type": "code",
   "execution_count": null,
   "metadata": {},
   "outputs": [],
   "source": []
  }
 ],
 "metadata": {
  "kernelspec": {
   "display_name": "Python 3",
   "language": "python",
   "name": "python3"
  },
  "language_info": {
   "codemirror_mode": {
    "name": "ipython",
    "version": 3
   },
   "file_extension": ".py",
   "mimetype": "text/x-python",
   "name": "python",
   "nbconvert_exporter": "python",
   "pygments_lexer": "ipython3",
   "version": "3.7.0"
  }
 },
 "nbformat": 4,
 "nbformat_minor": 2
}
