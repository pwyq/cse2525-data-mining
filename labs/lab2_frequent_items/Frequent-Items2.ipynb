{
 "cells": [
  {
   "cell_type": "markdown",
   "metadata": {},
   "source": [
    "# Lab: Frequent Itemsets\n",
    "Data Mining 2018/2019 <br> \n",
    "Danny Plenge and Gosia Migut\n",
    "\n",
    "**WHAT** This *optional* lab consists of several programming and insight exercises/questions. \n",
    "These exercises are ment to let you practice with the theory covered in: [Chapter 6][2] from \"Mining of Massive Datasets\" by J. Leskovec, A. Rajaraman, J. D. Ullman. <br>\n",
    "\n",
    "**WHY** Practicing, both through programming and answering the insight questions, aims at deepening your knowledge and preparing you for the exam. <br>\n",
    "\n",
    "**HOW** Follow the exercises in this notebook either on your own or with a friend. Use [Mattermost][1]\n",
    "to disscus questions with your peers. For additional questions and feedback please consult the TA's at the assigned lab session. The answers to these exercises will not be provided.\n",
    "\n",
    "[1]: https://mattermost.ewi.tudelft.nl/signup_user_complete/?id=ccffzw3cdjrkxkksq79qbxww7a\n",
    "[2]: http://infolab.stanford.edu/~ullman/mmds/ch6.pdf"
   ]
  },
  {
   "cell_type": "markdown",
   "metadata": {},
   "source": [
    "**SUMMARY**\n",
    "\n",
    "In the following exercises you will work on implementing algorithms to detect frequent itemsets\n",
    "from a set of baskets using the A-Priori algorithm. In addition we will be adding efficiency to the\n",
    "A-Priori algorithm using the PCY algorithm. Finally, we will be using the MapReduce framework\n",
    "to parallelize the algorithm."
   ]
  },
  {
   "cell_type": "markdown",
   "metadata": {},
   "source": [
    "## Exercise 1: A-Priori algorithm"
   ]
  },
  {
   "cell_type": "markdown",
   "metadata": {},
   "source": [
    "The A-Priori algorithm consists of three phases that are iterated until some number of frequent itemsets of some size have been found. The steps are described below:\n",
    "\n",
    "1. Construct a set of candidate itemsets $C_k$\n",
    "2. Go through the data and construct for each basket subsets of size k. For each of these subsets, increment their support value if that subset exists in $C_k$.\n",
    "3. Filter the set of candidate itemsets to get the set of truly frequent itemsets . That is, check if their support value is equal to or larger than the support threshold.\n",
    "4. Go to step 1 for k = k + 1, until you found frequent itemsets for the size that you requested."
   ]
  },
  {
   "cell_type": "code",
   "execution_count": null,
   "metadata": {},
   "outputs": [],
   "source": [
    "from sortedcontainers import SortedSet\n",
    "\n",
    "# This function can be used to get the subsets from your baskets\n",
    "# PLEASE DO NOT MODIFY THESE FUNCTIONS\n",
    "def getSubsets(set1, k):\n",
    "    # Is SortedSet even necessary here?\n",
    "    result = SortedSet()\n",
    "    \n",
    "    setList = set(set1)\n",
    "    subset = set()\n",
    "    getSubsets_(setList, subset, k, result)\n",
    "    return result\n",
    "\n",
    "# This is a helper function for getSubsets\n",
    "def getSubsets_(set1, subset, subsetSize, candidates):\n",
    "    if subsetSize == len(subset):\n",
    "        candidates.add(frozenset(x for x in subset))\n",
    "    else:\n",
    "        for s in set1:\n",
    "            subset.add(s)\n",
    "            clone = set(set1)\n",
    "            clone.remove(s)\n",
    "            getSubsets_(clone, subset, subsetSize, candidates)\n",
    "            subset.remove(s)\n",
    "\n",
    "# The Support Threshold\n",
    "supportThreshold = 3\n",
    "\n",
    "\n",
    "baskets = list(set())\n",
    "baskets.append(set(\"Cat and dog bites\".lower().split(\" \")))\n",
    "baskets.append(set(\"Yahoo news claims a cat mated with a dog and produced viable offspring\".lower().split(\" \")))\n",
    "baskets.append(set(\"Cat killer likely is a big dog\".lower().split(\" \")))\n",
    "baskets.append(set(\"Professional free advice on dog training puppy training\".lower().split(\" \")))\n",
    "baskets.append(set(\"Cat and kitten training and behavior\".lower().split(\" \")))\n",
    "baskets.append(set(\"Dog & Cat provides dog training in Eugene Oregon\".lower().split(\" \")))\n",
    "baskets.append(set(\"Dog and cat is a slang term used by police officers for a male female relationship\".lower().split(\" \")))\n",
    "baskets.append(set(\"Shop for your show dog grooming and pet supplies\".lower().split(\" \")))"
   ]
  },
  {
   "cell_type": "markdown",
   "metadata": {},
   "source": [
    "### Step 1\n",
    "\n",
    "Implement the functionality of the `constructCandidates` function. This function performs the first step of the process, constructing $C_k$ with all candidate itemsets of size $k$ given the set $L_{k-1}$ of filtered candidate itemsets of size $k - 1$. For the initial case $k = 1$, where no filtered candidates set is present yet, it returns all sets of size 1. For larger k, it should check each union of all possible pairs of itemset in −1 . If the size of a union is k, then this union is a candidate itemset. Note that the size of the union could also be larger than k, in which case it is not a candidate. \n",
    "  \n",
    "  \n",
    "**Note:** This very often creates more candidate itemsets than necessary, but for the purpose of this exercise, it will suffice."
   ]
  },
  {
   "cell_type": "code",
   "execution_count": null,
   "metadata": {},
   "outputs": [],
   "source": [
    "def constructCandidates(baskets, filtered, k):\n",
    "    \"\"\"\n",
    "    This function will create candidates for the A-Priori Algorithm\n",
    "    :param baskets: A list of strings containg the baskets\n",
    "    :param filtered: The filtered candidates from the last iteration\n",
    "    :param k: The size k\n",
    "    :return: A list of candidates (sets of strings)\n",
    "    \"\"\"\n",
    "    candidates = list()\n",
    "    \n",
    "    # First iteration\n",
    "    if filtered == None:\n",
    "        for b in baskets:\n",
    "            for s in b:\n",
    "                s1 = set()\n",
    "                s1.add(s)\n",
    "                candidates.append(s1)\n",
    "    \n",
    "    else:\n",
    "        # Insert code here!\n",
    "        pass\n",
    "    \n",
    "    return candidates  \n",
    " "
   ]
  },
  {
   "cell_type": "markdown",
   "metadata": {},
   "source": [
    "### Step 2. \n",
    "\n",
    "Implement the functionality of the `countCandidates` function. This function\n",
    "performs the second step of the process.  \n",
    "\n",
    "**Hint:** For creating subsets of size k, you may use the `getSubsets` function."
   ]
  },
  {
   "cell_type": "code",
   "execution_count": null,
   "metadata": {},
   "outputs": [],
   "source": [
    "def countCandidates(baskets, candidates, k):\n",
    "    \"\"\"\n",
    "    This function will count the candidates for the A-Priori Algorithm\n",
    "    It will return a dictionary with the candidate as key and the amount as value\n",
    "    :param baskets: A list of strings containg the baskets\n",
    "    :param candidates: The list of candidates (sets of strings)\n",
    "    :param k: The chosen size k\n",
    "    :return: A dictionary showing the amount for each unique candidate\n",
    "    \"\"\"\n",
    "    candidatesCount = dict()\n",
    "    \n",
    "    for b in baskets:\n",
    "        occurences = getSubsets(b, k)\n",
    "        \n",
    "        # Insert code here!\n",
    "   \n",
    "    return candidatesCount\n"
   ]
  },
  {
   "cell_type": "markdown",
   "metadata": {},
   "source": [
    "### Step 3. \n",
    "\n",
    "Implement the `filterCandidates` method."
   ]
  },
  {
   "cell_type": "code",
   "execution_count": null,
   "metadata": {},
   "outputs": [],
   "source": [
    "def filterCandidates(candidatesCount, supportThreshold):\n",
    "    \"\"\"\n",
    "    This function will filter the candidates for the A-Priori Algorithm\n",
    "    :param candidatesCount: A dictionary with the candidate as key and the amount as value\n",
    "    :param supportThreshold: The chosen support threshold\n",
    "    :return: A set representing the filtered candidates\n",
    "    \"\"\"\n",
    "    \n",
    "    filteredCandidates = set()\n",
    "    \n",
    "    # Insert code here!\n",
    "\n",
    "    return filteredCandidates\n"
   ]
  },
  {
   "cell_type": "markdown",
   "metadata": {},
   "source": [
    "### Step 4. \n",
    "\n",
    "Implement the `getFrequentSets` function. This function implements the full process by combining the previously created methods. For each size from 1 to k, it should construct candidate itemsets, count these itemsets and filter them.  \n",
    "  \n",
    "  \n",
    "**Note:** On the last iteration, no candidate sets need to be computed."
   ]
  },
  {
   "cell_type": "code",
   "execution_count": null,
   "metadata": {},
   "outputs": [],
   "source": [
    "def getFrequentSets(baskets, supportThreshold, k):\n",
    "    \"\"\"\n",
    "    This function will get the frequent item sets by performing the whole A-Priori algorithm\n",
    "    :param baskets: A list of strings containg the baskets\n",
    "    :param supportThreshold: The chosen support threshold\n",
    "    :param k: The chosen size k\n",
    "    :return: A set containing the frozensets of all the 'frequent items'\n",
    "    \"\"\"\n",
    "    filteredCandidates = None\n",
    "    \n",
    "    # Start with 1 as k has a minimum of 1\n",
    "    for i in range(1,(k+1)):\n",
    "        # Step 1\n",
    "        candidates = None\n",
    "        # Step 2\n",
    "        countedCandidates = None\n",
    "        # Step 3\n",
    "        filteredCandidates = None\n",
    "        \n",
    "    return filteredCandidates\n"
   ]
  },
  {
   "cell_type": "markdown",
   "metadata": {},
   "source": [
    "### Step 5.\n",
    "\n",
    "Run the APriori algorithm by using the function `getFrequentSets`."
   ]
  },
  {
   "cell_type": "code",
   "execution_count": null,
   "metadata": {},
   "outputs": [],
   "source": [
    "# Uncomment to try out!\n",
    "#print(getFrequentSets(baskets, supportThreshold, 1))\n",
    "#print(getFrequentSets(baskets, supportThreshold, 2))\n",
    "#getFrequentSets(baskets, supportThreshold, 3)"
   ]
  },
  {
   "cell_type": "markdown",
   "metadata": {},
   "source": [
    "### Expected output\n",
    "\n",
    "Expected output for candidates with k=3:  \n",
    "`[{'a', 'and', 'cat'}, {'a', 'dog', 'cat'}, {'a', 'dog', 'cat'}, {'dog', 'and', 'cat'}, {'dog', 'and', 'cat'}, {'a', 'dog', 'and'}, {'a', 'dog', 'cat'}, {'dog', 'and', 'cat'}]`  \n",
    "  \n",
    "Expected output for counted candidates with k=3:  \n",
    "`{frozenset({'dog', 'and', 'cat'}): 3, frozenset({'dog', 'a', 'cat'}): 3, frozenset({'dog', 'and', 'a'}): 2, frozenset({'and', 'a', 'cat'}): 2}`  \n",
    "  \n",
    "Expected output for filtered candidates with k=3:  \n",
    "`{frozenset({'and', 'cat', 'dog'}), frozenset({'a', 'cat', 'dog'})}`"
   ]
  },
  {
   "cell_type": "markdown",
   "metadata": {},
   "source": [
    "### Question 1\n",
    "\n",
    "What are the frequent doubletons? If we want to compute frequent itemsets of size k, how many passes through the data do we need to do using the A-Priori algorithm?"
   ]
  },
  {
   "cell_type": "markdown",
   "metadata": {},
   "source": [
    "### Question 2\n",
    "\n",
    "An alternative would be to read through the baskets and immediately construct subsets of size k and count how many times each occurred, thereby avoiding calculating the frequent itemsets of size 1 to k − 1. Why is this not feasible for larger datasets?"
   ]
  },
  {
   "cell_type": "markdown",
   "metadata": {},
   "source": [
    "## Exercise 2: PCY algorithm"
   ]
  },
  {
   "cell_type": "markdown",
   "metadata": {},
   "source": [
    "Next we will be making a small adjustment to the A-Priori algorithm, which leads to the PCY\n",
    "algorithm. The PCY algorithm affects the choosing of candidate pairs as frequent itemsets, that is it affects C2."
   ]
  },
  {
   "cell_type": "markdown",
   "metadata": {},
   "source": [
    "### Step 1  \n",
    "\n",
    "Complete the implementation of the `countCandidates` method. The implementation is very similar to the implementation in the A-Priori. However, when iterating over the data during k = 1, you should also generate subsets of size k + 1 = 2, hash these subsets and increment the value in the bucket array to which they hash to."
   ]
  },
  {
   "cell_type": "code",
   "execution_count": null,
   "metadata": {},
   "outputs": [],
   "source": [
    "def countPCYCandidates(baskets, candidates, k, bucketSize, buckets):\n",
    "    \"\"\"\n",
    "    This function will count the candidates for the PCY algorithm \n",
    "    :param baskets: A list of strings containg the baskets\n",
    "    :param candidates: The list of candidates (strings)\n",
    "    :param k: The chosen size k\n",
    "    :param bucketSize: The chosen bucket size\n",
    "    :param buckets: The list of buckets\n",
    "    :return: A dictionary showing the amount for each unique candidate\n",
    "    \"\"\"\n",
    "        \n",
    "    if k != 1:\n",
    "        return countCandidates(baskets, candidates, k)\n",
    " \n",
    "    for i in range(bucketSize):\n",
    "        buckets.append(0)\n",
    "    \n",
    "    candidatesCount = dict()\n",
    "\n",
    "    # Insert code here!\n",
    "    \n",
    "    return candidatesCount"
   ]
  },
  {
   "cell_type": "markdown",
   "metadata": {},
   "source": [
    "### Step 2. \n",
    "Next we will be implementing the `constructCandidates` function. Again, this implementation is very similar to the implementation of the A-Priori. However for k = 2, before adding an itemset to the set of candidates, also test that the itemset hashes to a frequent bucket (i.e. a bucket with a count of at least supportThreshold). If this is not the case, the itemset should be skipped.  \n",
    "  \n",
    "**Note**: only frozensets can be hashed, you can convert a set to a frozenset the following way:  \n",
    "```\n",
    "s = set()  \n",
    "s = frozenset(s)\n",
    "```"
   ]
  },
  {
   "cell_type": "code",
   "execution_count": null,
   "metadata": {},
   "outputs": [],
   "source": [
    "supportThreshold = 3;\n",
    "\n",
    "def constructPCYCandidates(baskets, filtered, k, bucketSize, buckets):\n",
    "    \"\"\"\n",
    "    This function will create candidates for the A-Priori algorithm\n",
    "    :param baskets: A list of strings containg the baskets\n",
    "    :param filtered: The filtered candidates from the last iteration\n",
    "    :param k: The chosen size k\n",
    "    :param bucketSize: The chosen bucket size\n",
    "    :param buckets: The list of buckets\n",
    "    :return: A list of candidates (sets of strings)\n",
    "    \"\"\"\n",
    "    \n",
    "    candidates = list()\n",
    "    \n",
    "    # On first iteration (k=1) just append sets to candidates list\n",
    "    if filtered == None:\n",
    "        for b in baskets:\n",
    "            for s in b:\n",
    "                s1 = set()\n",
    "                s1.add(s)\n",
    "                candidates.append(s1)\n",
    "    \n",
    "    # On second iteration (k=2) check if itemset hashes to a frequent bucket\n",
    "    # This will not work anymore if k > 2\n",
    "    else:\n",
    "        # Insert code here!\n",
    "        pass\n",
    "        \n",
    "    return candidates"
   ]
  },
  {
   "cell_type": "markdown",
   "metadata": {},
   "source": [
    "### Step 3. \n",
    "\n",
    "Use the `constructPCYcandidates` and `countPCYcandidates` functions to calculate the frequent itemsets by implementing the `getPCYFrequenSets`, using the `filterCandidates` function of the A-Priori algorithm. You can set the `bucketSize` to 256."
   ]
  },
  {
   "cell_type": "code",
   "execution_count": null,
   "metadata": {},
   "outputs": [],
   "source": [
    "def getPCYFrequenSets(baskets, supportThreshold, k, bucketSize):\n",
    "    \"\"\"\n",
    "    This function will get the frequent item sets by performing the whole PCY algorithm\n",
    "    :param baskets: A list of strings containg the baskets\n",
    "    :param supportThreshold: The chosen support threshold\n",
    "    :param k: The chosen size k\n",
    "    :param bucketSize: The chosen bucket size\n",
    "    :return: A set containing the frozensets of all the 'frequent items'\n",
    "    \"\"\"\n",
    "    filteredCandidates = None\n",
    "    buckets = list()\n",
    "    \n",
    "    # Start with 1 as k has a minimum of 1\n",
    "    for i in range(1,(k+1)):\n",
    "        # Step 1\n",
    "        candidates = None\n",
    "        # Step 2\n",
    "        countedCandidates = None\n",
    "        # Step 3\n",
    "        filteredCandidates = None\n",
    "    \n",
    "    return filteredCandidates\n",
    "\n",
    "getPCYFrequenSets(baskets, supportThreshold, 2, 256)"
   ]
  },
  {
   "cell_type": "markdown",
   "metadata": {},
   "source": [
    "### Expected output\n",
    "\n",
    "Expected output for filteredCandidates with k=2 and bucketSize=256:  \n",
    "`{frozenset({'and', 'cat'}),\n",
    " frozenset({'a', 'cat'}),\n",
    " frozenset({'cat', 'dog'}),\n",
    " frozenset({'and', 'dog'}),\n",
    " frozenset({'a', 'dog'})}`"
   ]
  },
  {
   "cell_type": "markdown",
   "metadata": {},
   "source": [
    "### Question 3. \n",
    "Compared to the A-Priori algorithm, what is the difference in number of candidate\n",
    "sets that the algorithm tests?"
   ]
  },
  {
   "cell_type": "markdown",
   "metadata": {},
   "source": [
    "### Question 4. \n",
    "What is the advantage of the PCY algorithm over the A-Priori algorithm?"
   ]
  },
  {
   "cell_type": "markdown",
   "metadata": {},
   "source": [
    "### Question 5. \n",
    "\n",
    "What is the influence of the buckets size? For example, what would happen if the\n",
    "bucket size would be too low?"
   ]
  }
 ],
 "metadata": {
  "kernelspec": {
   "display_name": "Python 3",
   "language": "python",
   "name": "python3"
  },
  "language_info": {
   "codemirror_mode": {
    "name": "ipython",
    "version": 3
   },
   "file_extension": ".py",
   "mimetype": "text/x-python",
   "name": "python",
   "nbconvert_exporter": "python",
   "pygments_lexer": "ipython3",
   "version": "3.7.4"
  }
 },
 "nbformat": 4,
 "nbformat_minor": 2
}
